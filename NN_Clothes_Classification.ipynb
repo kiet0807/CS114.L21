{
  "nbformat": 4,
  "nbformat_minor": 0,
  "metadata": {
    "colab": {
      "name": "NN_Clothes_Classification.ipynb",
      "provenance": [],
      "authorship_tag": "ABX9TyOJSEyfYhoU4MNzdyzmczqy",
      "include_colab_link": true
    },
    "kernelspec": {
      "name": "python3",
      "display_name": "Python 3"
    },
    "language_info": {
      "name": "python"
    }
  },
  "cells": [
    {
      "cell_type": "markdown",
      "metadata": {
        "id": "view-in-github",
        "colab_type": "text"
      },
      "source": [
        "<a href=\"https://colab.research.google.com/github/kiet0807/CS114.L21/blob/main/NN_Clothes_Classification.ipynb\" target=\"_parent\"><img src=\"https://colab.research.google.com/assets/colab-badge.svg\" alt=\"Open In Colab\"/></a>"
      ]
    },
    {
      "cell_type": "code",
      "metadata": {
        "id": "dzLKpmZICaWN"
      },
      "source": [
        "import tensorflow as tf\n",
        "\n",
        "import numpy as np\n",
        "import matplotlib.pyplot as plt\n",
        "from tensorflow.keras.layers import Dense, Flatten\n",
        "\n",
        "import pandas as pd"
      ],
      "execution_count": 47,
      "outputs": []
    },
    {
      "cell_type": "code",
      "metadata": {
        "id": "7MqDQO0KCaWS",
        "colab": {
          "base_uri": "https://localhost:8080/"
        },
        "outputId": "cbf2fe0b-e613-462b-a0b8-c4da378700fe"
      },
      "source": [
        "fashion_mnist = tf.keras.datasets.fashion_mnist\n",
        "\n",
        "(x_train, y_train), (x_test, y_test) = fashion_mnist.load_data()"
      ],
      "execution_count": 2,
      "outputs": [
        {
          "output_type": "stream",
          "text": [
            "Downloading data from https://storage.googleapis.com/tensorflow/tf-keras-datasets/train-labels-idx1-ubyte.gz\n",
            "32768/29515 [=================================] - 0s 0us/step\n",
            "Downloading data from https://storage.googleapis.com/tensorflow/tf-keras-datasets/train-images-idx3-ubyte.gz\n",
            "26427392/26421880 [==============================] - 1s 0us/step\n",
            "Downloading data from https://storage.googleapis.com/tensorflow/tf-keras-datasets/t10k-labels-idx1-ubyte.gz\n",
            "8192/5148 [===============================================] - 0s 0us/step\n",
            "Downloading data from https://storage.googleapis.com/tensorflow/tf-keras-datasets/t10k-images-idx3-ubyte.gz\n",
            "4423680/4422102 [==============================] - 0s 0us/step\n"
          ],
          "name": "stdout"
        }
      ]
    },
    {
      "cell_type": "code",
      "metadata": {
        "id": "IjnLH5S2CaWx",
        "colab": {
          "base_uri": "https://localhost:8080/"
        },
        "outputId": "4c323d25-2274-4d14-ec57-71fc419408d0"
      },
      "source": [
        "# Kích thước bộ dataset\n",
        "# Hình ảnh có kích thước 28x28\n",
        "\n",
        "print(\"x_train shape:\", x_train.shape, \"y_train shape:\", y_train.shape)"
      ],
      "execution_count": 3,
      "outputs": [
        {
          "output_type": "stream",
          "text": [
            "x_train shape: (60000, 28, 28) y_train shape: (60000,)\n"
          ],
          "name": "stdout"
        }
      ]
    },
    {
      "cell_type": "code",
      "metadata": {
        "id": "zW5k_xz1CaWX",
        "colab": {
          "base_uri": "https://localhost:8080/"
        },
        "outputId": "4ed534a2-1dbb-46d8-9e5a-3ef36f81b9c1"
      },
      "source": [
        "# Số lượng ảnh train và ảnh test\n",
        "\n",
        "print(x_train.shape[0], 'train set')\n",
        "print(x_test.shape[0], 'test set')"
      ],
      "execution_count": 4,
      "outputs": [
        {
          "output_type": "stream",
          "text": [
            "60000 train set\n",
            "10000 test set\n"
          ],
          "name": "stdout"
        }
      ]
    },
    {
      "cell_type": "code",
      "metadata": {
        "id": "TRFYHB2mCaWb",
        "colab": {
          "base_uri": "https://localhost:8080/",
          "height": 315
        },
        "outputId": "c18446b1-6476-4517-f27f-d13f47be0fa9"
      },
      "source": [
        "# Xác định label để vẽ biểu đồ\n",
        "\n",
        "fashion_mnist_labels = [\"T-shirt/top\",  # index 0\n",
        "                        \"Trouser\",      # index 1\n",
        "                        \"Pullover\",     # index 2 \n",
        "                        \"Dress\",        # index 3 \n",
        "                        \"Coat\",         # index 4\n",
        "                        \"Sandal\",       # index 5\n",
        "                        \"Shirt\",        # index 6 \n",
        "                        \"Sneaker\",      # index 7 \n",
        "                        \"Bag\",          # index 8 \n",
        "                        \"Ankle boot\"]   # index 9\n",
        "\n",
        "img_index = 5\n",
        "\n",
        "label_index = y_train[img_index]\n",
        "\n",
        "print (\"y = \" + str(label_index))\n",
        "\n",
        "print (\"label: \" + (fashion_mnist_labels[label_index]))\n",
        "\n",
        "plt.imshow(x_train[img_index])"
      ],
      "execution_count": 5,
      "outputs": [
        {
          "output_type": "stream",
          "text": [
            "y = 2\n",
            "label: Pullover\n"
          ],
          "name": "stdout"
        },
        {
          "output_type": "execute_result",
          "data": {
            "text/plain": [
              "<matplotlib.image.AxesImage at 0x7ff379a70350>"
            ]
          },
          "metadata": {
            "tags": []
          },
          "execution_count": 5
        },
        {
          "output_type": "display_data",
          "data": {
            "image/png": "[encoded data removed]",
            "text/plain": [
              "<Figure size 432x288 with 1 Axes>"
            ]
          },
          "metadata": {
            "tags": [],
            "needs_background": "light"
          }
        }
      ]
    },
    {
      "cell_type": "code",
      "metadata": {
        "id": "9ODch-OFCaW4",
        "colab": {
          "base_uri": "https://localhost:8080/"
        },
        "outputId": "1013349f-4cdd-4f32-a629-84fa40d0bd30"
      },
      "source": [
        "model = tf.keras.Sequential()\n",
        "\n",
        "model.add(Flatten(input_shape=(28, 28)))\n",
        "model.add(Dense(128, activation='relu'))\n",
        "model.add(Dense(10))\n",
        "\n",
        "model.summary()"
      ],
      "execution_count": 50,
      "outputs": [
        {
          "output_type": "stream",
          "text": [
            "Model: \"sequential_3\"\n",
            "_________________________________________________________________\n",
            "Layer (type)                 Output Shape              Param #   \n",
            "=================================================================\n",
            "flatten_2 (Flatten)          (None, 784)               0         \n",
            "_________________________________________________________________\n",
            "dense_4 (Dense)              (None, 128)               100480    \n",
            "_________________________________________________________________\n",
            "dense_5 (Dense)              (None, 10)                1290      \n",
            "=================================================================\n",
            "Total params: 101,770\n",
            "Trainable params: 101,770\n",
            "Non-trainable params: 0\n",
            "_________________________________________________________________\n"
          ],
          "name": "stdout"
        }
      ]
    },
    {
      "cell_type": "code",
      "metadata": {
        "id": "Lhan11blCaW7"
      },
      "source": [
        "model.compile(optimizer='adam',\n",
        "              loss=tf.keras.losses.SparseCategoricalCrossentropy(from_logits=True),\n",
        "              metrics=['accuracy'])"
      ],
      "execution_count": 53,
      "outputs": []
    },
    {
      "cell_type": "code",
      "metadata": {
        "id": "xvwvpA64CaW_",
        "colab": {
          "base_uri": "https://localhost:8080/"
        },
        "outputId": "04e0c617-48af-4b19-f8c2-83e7a564e84d"
      },
      "source": [
        "%time history = model.fit(x_train, y_train, epochs=100, batch_size=1000, validation_split=0.2, verbose=1)"
      ],
      "execution_count": 54,
      "outputs": [
        {
          "output_type": "stream",
          "text": [
            "Epoch 1/100\n",
            "48/48 [==============================] - 1s 18ms/step - loss: 28.0499 - accuracy: 0.6367 - val_loss: 8.9804 - val_accuracy: 0.7316\n",
            "Epoch 2/100\n",
            "48/48 [==============================] - 1s 15ms/step - loss: 6.7075 - accuracy: 0.7580 - val_loss: 5.9067 - val_accuracy: 0.7664\n",
            "Epoch 3/100\n",
            "48/48 [==============================] - 1s 15ms/step - loss: 4.7290 - accuracy: 0.7820 - val_loss: 4.2977 - val_accuracy: 0.7826\n",
            "Epoch 4/100\n",
            "48/48 [==============================] - 1s 17ms/step - loss: 3.6613 - accuracy: 0.7932 - val_loss: 3.5181 - val_accuracy: 0.7883\n",
            "Epoch 5/100\n",
            "48/48 [==============================] - 1s 15ms/step - loss: 2.9393 - accuracy: 0.7996 - val_loss: 2.9495 - val_accuracy: 0.7881\n",
            "Epoch 6/100\n",
            "48/48 [==============================] - 1s 15ms/step - loss: 2.4150 - accuracy: 0.8033 - val_loss: 2.5442 - val_accuracy: 0.7847\n",
            "Epoch 7/100\n",
            "48/48 [==============================] - 1s 15ms/step - loss: 2.0561 - accuracy: 0.8055 - val_loss: 2.2662 - val_accuracy: 0.7891\n",
            "Epoch 8/100\n",
            "48/48 [==============================] - 1s 15ms/step - loss: 1.7432 - accuracy: 0.8117 - val_loss: 1.9187 - val_accuracy: 0.7958\n",
            "Epoch 9/100\n",
            "48/48 [==============================] - 1s 15ms/step - loss: 1.4827 - accuracy: 0.8155 - val_loss: 1.7438 - val_accuracy: 0.7962\n",
            "Epoch 10/100\n",
            "48/48 [==============================] - 1s 15ms/step - loss: 1.2179 - accuracy: 0.8154 - val_loss: 1.4603 - val_accuracy: 0.7909\n",
            "Epoch 11/100\n",
            "48/48 [==============================] - 1s 16ms/step - loss: 1.0305 - accuracy: 0.8105 - val_loss: 1.2598 - val_accuracy: 0.7750\n",
            "Epoch 12/100\n",
            "48/48 [==============================] - 1s 15ms/step - loss: 0.8356 - accuracy: 0.7954 - val_loss: 1.0570 - val_accuracy: 0.7649\n",
            "Epoch 13/100\n",
            "48/48 [==============================] - 1s 15ms/step - loss: 0.7174 - accuracy: 0.7929 - val_loss: 0.9726 - val_accuracy: 0.7776\n",
            "Epoch 14/100\n",
            "48/48 [==============================] - 1s 15ms/step - loss: 0.6559 - accuracy: 0.8033 - val_loss: 0.9475 - val_accuracy: 0.7793\n",
            "Epoch 15/100\n",
            "48/48 [==============================] - 1s 15ms/step - loss: 0.6037 - accuracy: 0.8093 - val_loss: 0.9083 - val_accuracy: 0.7816\n",
            "Epoch 16/100\n",
            "48/48 [==============================] - 1s 15ms/step - loss: 0.5699 - accuracy: 0.8160 - val_loss: 0.8768 - val_accuracy: 0.7912\n",
            "Epoch 17/100\n",
            "48/48 [==============================] - 1s 15ms/step - loss: 0.5414 - accuracy: 0.8216 - val_loss: 0.8472 - val_accuracy: 0.7985\n",
            "Epoch 18/100\n",
            "48/48 [==============================] - 1s 15ms/step - loss: 0.5137 - accuracy: 0.8271 - val_loss: 0.8201 - val_accuracy: 0.8019\n",
            "Epoch 19/100\n",
            "48/48 [==============================] - 1s 15ms/step - loss: 0.4871 - accuracy: 0.8344 - val_loss: 0.7977 - val_accuracy: 0.8102\n",
            "Epoch 20/100\n",
            "48/48 [==============================] - 1s 15ms/step - loss: 0.4722 - accuracy: 0.8370 - val_loss: 0.7835 - val_accuracy: 0.8073\n",
            "Epoch 21/100\n",
            "48/48 [==============================] - 1s 15ms/step - loss: 0.4551 - accuracy: 0.8414 - val_loss: 0.7682 - val_accuracy: 0.8185\n",
            "Epoch 22/100\n",
            "48/48 [==============================] - 1s 15ms/step - loss: 0.4374 - accuracy: 0.8449 - val_loss: 0.7629 - val_accuracy: 0.8167\n",
            "Epoch 23/100\n",
            "48/48 [==============================] - 1s 15ms/step - loss: 0.4251 - accuracy: 0.8480 - val_loss: 0.7659 - val_accuracy: 0.8129\n",
            "Epoch 24/100\n",
            "48/48 [==============================] - 1s 15ms/step - loss: 0.4159 - accuracy: 0.8527 - val_loss: 0.7409 - val_accuracy: 0.8179\n",
            "Epoch 25/100\n",
            "48/48 [==============================] - 1s 15ms/step - loss: 0.4000 - accuracy: 0.8560 - val_loss: 0.7286 - val_accuracy: 0.8226\n",
            "Epoch 26/100\n",
            "48/48 [==============================] - 1s 15ms/step - loss: 0.3918 - accuracy: 0.8587 - val_loss: 0.7330 - val_accuracy: 0.8249\n",
            "Epoch 27/100\n",
            "48/48 [==============================] - 1s 15ms/step - loss: 0.3837 - accuracy: 0.8623 - val_loss: 0.7184 - val_accuracy: 0.8283\n",
            "Epoch 28/100\n",
            "48/48 [==============================] - 1s 16ms/step - loss: 0.3737 - accuracy: 0.8642 - val_loss: 0.7121 - val_accuracy: 0.8251\n",
            "Epoch 29/100\n",
            "48/48 [==============================] - 1s 15ms/step - loss: 0.3686 - accuracy: 0.8633 - val_loss: 0.7176 - val_accuracy: 0.8322\n",
            "Epoch 30/100\n",
            "48/48 [==============================] - 1s 15ms/step - loss: 0.3629 - accuracy: 0.8664 - val_loss: 0.6952 - val_accuracy: 0.8299\n",
            "Epoch 31/100\n",
            "48/48 [==============================] - 1s 15ms/step - loss: 0.3529 - accuracy: 0.8687 - val_loss: 0.6798 - val_accuracy: 0.8302\n",
            "Epoch 32/100\n",
            "48/48 [==============================] - 1s 16ms/step - loss: 0.3502 - accuracy: 0.8702 - val_loss: 0.6874 - val_accuracy: 0.8353\n",
            "Epoch 33/100\n",
            "48/48 [==============================] - 1s 16ms/step - loss: 0.3466 - accuracy: 0.8712 - val_loss: 0.7081 - val_accuracy: 0.8368\n",
            "Epoch 34/100\n",
            "48/48 [==============================] - 1s 15ms/step - loss: 0.3409 - accuracy: 0.8739 - val_loss: 0.6916 - val_accuracy: 0.8370\n",
            "Epoch 35/100\n",
            "48/48 [==============================] - 1s 16ms/step - loss: 0.3318 - accuracy: 0.8771 - val_loss: 0.6854 - val_accuracy: 0.8404\n",
            "Epoch 36/100\n",
            "48/48 [==============================] - 1s 15ms/step - loss: 0.3292 - accuracy: 0.8777 - val_loss: 0.6860 - val_accuracy: 0.8383\n",
            "Epoch 37/100\n",
            "48/48 [==============================] - 1s 15ms/step - loss: 0.3225 - accuracy: 0.8787 - val_loss: 0.6864 - val_accuracy: 0.8369\n",
            "Epoch 38/100\n",
            "48/48 [==============================] - 1s 16ms/step - loss: 0.3192 - accuracy: 0.8811 - val_loss: 0.6793 - val_accuracy: 0.8415\n",
            "Epoch 39/100\n",
            "48/48 [==============================] - 1s 16ms/step - loss: 0.3205 - accuracy: 0.8791 - val_loss: 0.6676 - val_accuracy: 0.8412\n",
            "Epoch 40/100\n",
            "48/48 [==============================] - 1s 16ms/step - loss: 0.3130 - accuracy: 0.8816 - val_loss: 0.6760 - val_accuracy: 0.8401\n",
            "Epoch 41/100\n",
            "48/48 [==============================] - 1s 16ms/step - loss: 0.3075 - accuracy: 0.8839 - val_loss: 0.6825 - val_accuracy: 0.8427\n",
            "Epoch 42/100\n",
            "48/48 [==============================] - 1s 15ms/step - loss: 0.3019 - accuracy: 0.8856 - val_loss: 0.6697 - val_accuracy: 0.8413\n",
            "Epoch 43/100\n",
            "48/48 [==============================] - 1s 16ms/step - loss: 0.2963 - accuracy: 0.8870 - val_loss: 0.6705 - val_accuracy: 0.8462\n",
            "Epoch 44/100\n",
            "48/48 [==============================] - 1s 16ms/step - loss: 0.2949 - accuracy: 0.8889 - val_loss: 0.6701 - val_accuracy: 0.8501\n",
            "Epoch 45/100\n",
            "48/48 [==============================] - 1s 15ms/step - loss: 0.2920 - accuracy: 0.8895 - val_loss: 0.6620 - val_accuracy: 0.8457\n",
            "Epoch 46/100\n",
            "48/48 [==============================] - 1s 15ms/step - loss: 0.2930 - accuracy: 0.8882 - val_loss: 0.6940 - val_accuracy: 0.8469\n",
            "Epoch 47/100\n",
            "48/48 [==============================] - 1s 15ms/step - loss: 0.2903 - accuracy: 0.8896 - val_loss: 0.6622 - val_accuracy: 0.8465\n",
            "Epoch 48/100\n",
            "48/48 [==============================] - 1s 16ms/step - loss: 0.2870 - accuracy: 0.8905 - val_loss: 0.6675 - val_accuracy: 0.8428\n",
            "Epoch 49/100\n",
            "48/48 [==============================] - 1s 15ms/step - loss: 0.2851 - accuracy: 0.8907 - val_loss: 0.6792 - val_accuracy: 0.8434\n",
            "Epoch 50/100\n",
            "48/48 [==============================] - 1s 16ms/step - loss: 0.2845 - accuracy: 0.8911 - val_loss: 0.6676 - val_accuracy: 0.8428\n",
            "Epoch 51/100\n",
            "48/48 [==============================] - 1s 16ms/step - loss: 0.2833 - accuracy: 0.8909 - val_loss: 0.6676 - val_accuracy: 0.8497\n",
            "Epoch 52/100\n",
            "48/48 [==============================] - 1s 16ms/step - loss: 0.2751 - accuracy: 0.8950 - val_loss: 0.6637 - val_accuracy: 0.8512\n",
            "Epoch 53/100\n",
            "48/48 [==============================] - 1s 15ms/step - loss: 0.2729 - accuracy: 0.8949 - val_loss: 0.6593 - val_accuracy: 0.8515\n",
            "Epoch 54/100\n",
            "48/48 [==============================] - 1s 15ms/step - loss: 0.2755 - accuracy: 0.8951 - val_loss: 0.6769 - val_accuracy: 0.8517\n",
            "Epoch 55/100\n",
            "48/48 [==============================] - 1s 16ms/step - loss: 0.2671 - accuracy: 0.8965 - val_loss: 0.6754 - val_accuracy: 0.8526\n",
            "Epoch 56/100\n",
            "48/48 [==============================] - 1s 15ms/step - loss: 0.2633 - accuracy: 0.8989 - val_loss: 0.6561 - val_accuracy: 0.8512\n",
            "Epoch 57/100\n",
            "48/48 [==============================] - 1s 15ms/step - loss: 0.2592 - accuracy: 0.9004 - val_loss: 0.6688 - val_accuracy: 0.8516\n",
            "Epoch 58/100\n",
            "48/48 [==============================] - 1s 16ms/step - loss: 0.2578 - accuracy: 0.9010 - val_loss: 0.6665 - val_accuracy: 0.8550\n",
            "Epoch 59/100\n",
            "48/48 [==============================] - 1s 16ms/step - loss: 0.2643 - accuracy: 0.8992 - val_loss: 0.6661 - val_accuracy: 0.8521\n",
            "Epoch 60/100\n",
            "48/48 [==============================] - 1s 16ms/step - loss: 0.2603 - accuracy: 0.9005 - val_loss: 0.6819 - val_accuracy: 0.8481\n",
            "Epoch 61/100\n",
            "48/48 [==============================] - 1s 15ms/step - loss: 0.2603 - accuracy: 0.9009 - val_loss: 0.6606 - val_accuracy: 0.8522\n",
            "Epoch 62/100\n",
            "48/48 [==============================] - 1s 16ms/step - loss: 0.2575 - accuracy: 0.9016 - val_loss: 0.6527 - val_accuracy: 0.8552\n",
            "Epoch 63/100\n",
            "48/48 [==============================] - 1s 15ms/step - loss: 0.2554 - accuracy: 0.9015 - val_loss: 0.6636 - val_accuracy: 0.8520\n",
            "Epoch 64/100\n",
            "48/48 [==============================] - 1s 16ms/step - loss: 0.2585 - accuracy: 0.9010 - val_loss: 0.6755 - val_accuracy: 0.8502\n",
            "Epoch 65/100\n",
            "48/48 [==============================] - 1s 15ms/step - loss: 0.2523 - accuracy: 0.9014 - val_loss: 0.6767 - val_accuracy: 0.8510\n",
            "Epoch 66/100\n",
            "48/48 [==============================] - 1s 15ms/step - loss: 0.2502 - accuracy: 0.9039 - val_loss: 0.6599 - val_accuracy: 0.8552\n",
            "Epoch 67/100\n",
            "48/48 [==============================] - 1s 16ms/step - loss: 0.2468 - accuracy: 0.9045 - val_loss: 0.6774 - val_accuracy: 0.8527\n",
            "Epoch 68/100\n",
            "48/48 [==============================] - 1s 16ms/step - loss: 0.2499 - accuracy: 0.9035 - val_loss: 0.6680 - val_accuracy: 0.8550\n",
            "Epoch 69/100\n",
            "48/48 [==============================] - 1s 15ms/step - loss: 0.2423 - accuracy: 0.9069 - val_loss: 0.6830 - val_accuracy: 0.8549\n",
            "Epoch 70/100\n",
            "48/48 [==============================] - 1s 16ms/step - loss: 0.2393 - accuracy: 0.9078 - val_loss: 0.6688 - val_accuracy: 0.8584\n",
            "Epoch 71/100\n",
            "48/48 [==============================] - 1s 16ms/step - loss: 0.2450 - accuracy: 0.9069 - val_loss: 0.6688 - val_accuracy: 0.8539\n",
            "Epoch 72/100\n",
            "48/48 [==============================] - 1s 16ms/step - loss: 0.2374 - accuracy: 0.9085 - val_loss: 0.6620 - val_accuracy: 0.8583\n",
            "Epoch 73/100\n",
            "48/48 [==============================] - 1s 16ms/step - loss: 0.2364 - accuracy: 0.9081 - val_loss: 0.6714 - val_accuracy: 0.8555\n",
            "Epoch 74/100\n",
            "48/48 [==============================] - 1s 16ms/step - loss: 0.2339 - accuracy: 0.9091 - val_loss: 0.6749 - val_accuracy: 0.8566\n",
            "Epoch 75/100\n",
            "48/48 [==============================] - 1s 16ms/step - loss: 0.2394 - accuracy: 0.9073 - val_loss: 0.6933 - val_accuracy: 0.8572\n",
            "Epoch 76/100\n",
            "48/48 [==============================] - 1s 16ms/step - loss: 0.2359 - accuracy: 0.9074 - val_loss: 0.6849 - val_accuracy: 0.8516\n",
            "Epoch 77/100\n",
            "48/48 [==============================] - 1s 16ms/step - loss: 0.2371 - accuracy: 0.9079 - val_loss: 0.6763 - val_accuracy: 0.8563\n",
            "Epoch 78/100\n",
            "48/48 [==============================] - 1s 15ms/step - loss: 0.2398 - accuracy: 0.9084 - val_loss: 0.6720 - val_accuracy: 0.8555\n",
            "Epoch 79/100\n",
            "48/48 [==============================] - 1s 16ms/step - loss: 0.2318 - accuracy: 0.9104 - val_loss: 0.6684 - val_accuracy: 0.8563\n",
            "Epoch 80/100\n",
            "48/48 [==============================] - 1s 16ms/step - loss: 0.2387 - accuracy: 0.9088 - val_loss: 0.7151 - val_accuracy: 0.8556\n",
            "Epoch 81/100\n",
            "48/48 [==============================] - 1s 15ms/step - loss: 0.2585 - accuracy: 0.9045 - val_loss: 0.6800 - val_accuracy: 0.8497\n",
            "Epoch 82/100\n",
            "48/48 [==============================] - 1s 16ms/step - loss: 0.2723 - accuracy: 0.9000 - val_loss: 0.6665 - val_accuracy: 0.8571\n",
            "Epoch 83/100\n",
            "48/48 [==============================] - 1s 16ms/step - loss: 0.2530 - accuracy: 0.9048 - val_loss: 0.6821 - val_accuracy: 0.8537\n",
            "Epoch 84/100\n",
            "48/48 [==============================] - 1s 15ms/step - loss: 0.2385 - accuracy: 0.9083 - val_loss: 0.6525 - val_accuracy: 0.8587\n",
            "Epoch 85/100\n",
            "48/48 [==============================] - 1s 15ms/step - loss: 0.2310 - accuracy: 0.9100 - val_loss: 0.6742 - val_accuracy: 0.8582\n",
            "Epoch 86/100\n",
            "48/48 [==============================] - 1s 16ms/step - loss: 0.2303 - accuracy: 0.9099 - val_loss: 0.6563 - val_accuracy: 0.8554\n",
            "Epoch 87/100\n",
            "48/48 [==============================] - 1s 16ms/step - loss: 0.2285 - accuracy: 0.9106 - val_loss: 0.6643 - val_accuracy: 0.8582\n",
            "Epoch 88/100\n",
            "48/48 [==============================] - 1s 17ms/step - loss: 0.2201 - accuracy: 0.9147 - val_loss: 0.6644 - val_accuracy: 0.8597\n",
            "Epoch 89/100\n",
            "48/48 [==============================] - 1s 15ms/step - loss: 0.2215 - accuracy: 0.9127 - val_loss: 0.6763 - val_accuracy: 0.8597\n",
            "Epoch 90/100\n",
            "48/48 [==============================] - 1s 16ms/step - loss: 0.2163 - accuracy: 0.9157 - val_loss: 0.6579 - val_accuracy: 0.8599\n",
            "Epoch 91/100\n",
            "48/48 [==============================] - 1s 16ms/step - loss: 0.2159 - accuracy: 0.9159 - val_loss: 0.6528 - val_accuracy: 0.8600\n",
            "Epoch 92/100\n",
            "48/48 [==============================] - 1s 16ms/step - loss: 0.2121 - accuracy: 0.9175 - val_loss: 0.6898 - val_accuracy: 0.8588\n",
            "Epoch 93/100\n",
            "48/48 [==============================] - 1s 16ms/step - loss: 0.2159 - accuracy: 0.9155 - val_loss: 0.6765 - val_accuracy: 0.8566\n",
            "Epoch 94/100\n",
            "48/48 [==============================] - 1s 16ms/step - loss: 0.2148 - accuracy: 0.9154 - val_loss: 0.6746 - val_accuracy: 0.8585\n",
            "Epoch 95/100\n",
            "48/48 [==============================] - 1s 16ms/step - loss: 0.2093 - accuracy: 0.9169 - val_loss: 0.6677 - val_accuracy: 0.8580\n",
            "Epoch 96/100\n",
            "48/48 [==============================] - 1s 16ms/step - loss: 0.2098 - accuracy: 0.9172 - val_loss: 0.7141 - val_accuracy: 0.8584\n",
            "Epoch 97/100\n",
            "48/48 [==============================] - 1s 15ms/step - loss: 0.2165 - accuracy: 0.9145 - val_loss: 0.6729 - val_accuracy: 0.8636\n",
            "Epoch 98/100\n",
            "48/48 [==============================] - 1s 15ms/step - loss: 0.2261 - accuracy: 0.9118 - val_loss: 0.6820 - val_accuracy: 0.8629\n",
            "Epoch 99/100\n",
            "48/48 [==============================] - 1s 15ms/step - loss: 0.2182 - accuracy: 0.9144 - val_loss: 0.7158 - val_accuracy: 0.8537\n",
            "Epoch 100/100\n",
            "48/48 [==============================] - 1s 16ms/step - loss: 0.2109 - accuracy: 0.9180 - val_loss: 0.6672 - val_accuracy: 0.8617\n",
            "CPU times: user 1min 55s, sys: 5.5 s, total: 2min\n",
            "Wall time: 1min 15s\n"
          ],
          "name": "stdout"
        }
      ]
    },
    {
      "cell_type": "code",
      "metadata": {
        "colab": {
          "base_uri": "https://localhost:8080/"
        },
        "id": "3hz87QMduQTL",
        "outputId": "55aa2ae2-bec3-454a-b5f1-3a5c2c4d38ae"
      },
      "source": [
        "train_loss, train_accuracy = model.evaluate(x_train, y_train, batch_size=1000)\n",
        "print(\"Train Accuracy: \" ,train_accuracy)\n",
        "print(\"Train Loss: \" ,train_loss)"
      ],
      "execution_count": 55,
      "outputs": [
        {
          "output_type": "stream",
          "text": [
            "60/60 [==============================] - 0s 7ms/step - loss: 0.3024 - accuracy: 0.9069\n",
            "Train Accuracy:  0.9069499969482422\n",
            "Train Loss:  0.30244776606559753\n"
          ],
          "name": "stdout"
        }
      ]
    },
    {
      "cell_type": "code",
      "metadata": {
        "id": "VflXLEeECaXC",
        "colab": {
          "base_uri": "https://localhost:8080/"
        },
        "outputId": "16eecd27-5027-4dd7-f6bc-061661979741"
      },
      "source": [
        "test_loss, test_acc = model.evaluate(x_test,  y_test, batch_size = 1000)\n",
        "\n",
        "print('\\nTest accuracy:', test_acc)\n",
        "print('\\nTest loss:', test_loss)"
      ],
      "execution_count": 56,
      "outputs": [
        {
          "output_type": "stream",
          "text": [
            "10/10 [==============================] - 0s 8ms/step - loss: 0.7249 - accuracy: 0.8537\n",
            "\n",
            "Test accuracy: 0.8536999821662903\n",
            "\n",
            "Test loss: 0.7248932719230652\n"
          ],
          "name": "stdout"
        }
      ]
    },
    {
      "cell_type": "code",
      "metadata": {
        "id": "DnfNA0CrQLSD"
      },
      "source": [
        "probability_model = tf.keras.Sequential([model, \n",
        "                                         tf.keras.layers.Softmax()])"
      ],
      "execution_count": 57,
      "outputs": []
    },
    {
      "cell_type": "code",
      "metadata": {
        "id": "Gl91RPhdCaXI"
      },
      "source": [
        "predictions = probability_model.predict(x_test)"
      ],
      "execution_count": 58,
      "outputs": []
    },
    {
      "cell_type": "code",
      "metadata": {
        "id": "3DmJEUinCaXK",
        "colab": {
          "base_uri": "https://localhost:8080/"
        },
        "outputId": "41c51976-0b38-4103-9288-e022ae82af0d"
      },
      "source": [
        "predictions[0]"
      ],
      "execution_count": 59,
      "outputs": [
        {
          "output_type": "execute_result",
          "data": {
            "text/plain": [
              "array([0.0000000e+00, 0.0000000e+00, 4.1713333e-37, 0.0000000e+00,\n",
              "       0.0000000e+00, 2.0509654e-19, 0.0000000e+00, 3.2973083e-05,\n",
              "       9.5898046e-32, 9.9996698e-01], dtype=float32)"
            ]
          },
          "metadata": {
            "tags": []
          },
          "execution_count": 59
        }
      ]
    },
    {
      "cell_type": "code",
      "metadata": {
        "id": "qsqenuPnCaXO",
        "colab": {
          "base_uri": "https://localhost:8080/"
        },
        "outputId": "f85bb632-1a54-40c2-e462-0efa4097b495"
      },
      "source": [
        "np.argmax(predictions[0])\n"
      ],
      "execution_count": 60,
      "outputs": [
        {
          "output_type": "execute_result",
          "data": {
            "text/plain": [
              "9"
            ]
          },
          "metadata": {
            "tags": []
          },
          "execution_count": 60
        }
      ]
    },
    {
      "cell_type": "code",
      "metadata": {
        "id": "Sd7Pgsu6CaXP",
        "colab": {
          "base_uri": "https://localhost:8080/"
        },
        "outputId": "cd352e89-e140-462e-e0f7-4f8a930c308a"
      },
      "source": [
        "y_test[0]"
      ],
      "execution_count": 61,
      "outputs": [
        {
          "output_type": "execute_result",
          "data": {
            "text/plain": [
              "9"
            ]
          },
          "metadata": {
            "tags": []
          },
          "execution_count": 61
        }
      ]
    },
    {
      "cell_type": "code",
      "metadata": {
        "id": "DvYmmrpIy6Y1"
      },
      "source": [
        "def plot_image(i, predictions_array, true_label, img):\n",
        "  true_label, img = true_label[i], img[i]\n",
        "  plt.grid(False)\n",
        "  plt.xticks([])\n",
        "  plt.yticks([])\n",
        "\n",
        "  plt.imshow(np.squeeze(img))\n",
        "\n",
        "  predicted_label = np.argmax(predictions_array)\n",
        "  if predicted_label == true_label:\n",
        "    color = 'blue'\n",
        "  else:\n",
        "    color = 'red'\n",
        "\n",
        "  plt.title(\"{} {:2.0f}% ({})\".format(fashion_mnist_labels[predicted_label],\n",
        "                                100*np.max(predictions_array),\n",
        "                                fashion_mnist_labels[true_label]),\n",
        "                                color=color)"
      ],
      "execution_count": 62,
      "outputs": []
    },
    {
      "cell_type": "code",
      "metadata": {
        "id": "Ko-uzOufSCSe",
        "colab": {
          "base_uri": "https://localhost:8080/",
          "height": 203
        },
        "outputId": "2085f436-d5a4-44de-fbdb-8022f4239f33"
      },
      "source": [
        "i = 2540\n",
        "plt.figure(figsize=(6,3))\n",
        "plt.subplot(1,2,1)\n",
        "plot_image(i, predictions[i], y_test, x_test)\n",
        "plt.show()"
      ],
      "execution_count": 63,
      "outputs": [
        {
          "output_type": "display_data",
          "data": {
            "image/png": "[encoded data removed]",
            "text/plain": [
              "<Figure size 432x216 with 1 Axes>"
            ]
          },
          "metadata": {
            "tags": []
          }
        }
      ]
    },
    {
      "cell_type": "code",
      "metadata": {
        "colab": {
          "base_uri": "https://localhost:8080/",
          "height": 375
        },
        "id": "6lgOzsUancKw",
        "outputId": "fd8f4267-1348-4cfa-bd21-0c96da22e0eb"
      },
      "source": [
        "num_rows = 3\n",
        "num_cols = 5\n",
        "num_images = num_rows*num_cols\n",
        "plt.figure(figsize=(2*2*num_cols, 2*num_rows))\n",
        "for i, index in enumerate(np.random.choice(x_test.shape[0], size=15, replace=False)):\n",
        "  plt.subplot(num_rows, 2*num_cols, 2*i+1)\n",
        "  plot_image(index, predictions[index], y_test, x_test)\n",
        "plt.show()"
      ],
      "execution_count": 64,
      "outputs": [
        {
          "output_type": "display_data",
          "data": {
            "image/png": "[encoded data removed]",
            "text/plain": [
              "<Figure size 1440x432 with 15 Axes>"
            ]
          },
          "metadata": {
            "tags": []
          }
        }
      ]
    },
    {
      "cell_type": "code",
      "metadata": {
        "colab": {
          "base_uri": "https://localhost:8080/",
          "height": 444
        },
        "id": "ABjjmgFNonNQ",
        "outputId": "40a2de1a-a850-4adc-bd9e-8b8418268241"
      },
      "source": [
        "# Biểu đồ train accuracy và val_accuracy\n",
        "\n",
        "def plot_history(history, samples=10, init_phase_samples=None):\n",
        "    epochs = history.params['epochs']\n",
        "    \n",
        "    acc = history.history['accuracy']\n",
        "    val_acc = history.history['val_accuracy']\n",
        "\n",
        "    every_sample =  int(epochs / samples)\n",
        "    acc = pd.DataFrame(acc).iloc[::every_sample, :]\n",
        "    val_acc = pd.DataFrame(val_acc).iloc[::every_sample, :]\n",
        "\n",
        "    fig, ax = plt.subplots(figsize=(5,7))\n",
        "\n",
        "    ax.plot(acc, 'b', label='Training acc', color = 'orange')\n",
        "    ax.plot(val_acc, 'b', label='Validation acc')\n",
        "    ax.set_title('Training and validation accuracy')\n",
        "    ax.legend()\n",
        "\n",
        "plot_history(history)"
      ],
      "execution_count": 68,
      "outputs": [
        {
          "output_type": "display_data",
          "data": {
            "image/png": "[encoded data removed]",
            "text/plain": [
              "<Figure size 360x504 with 1 Axes>"
            ]
          },
          "metadata": {
            "tags": [],
            "needs_background": "light"
          }
        }
      ]
    },
    {
      "cell_type": "code",
      "metadata": {
        "colab": {
          "base_uri": "https://localhost:8080/",
          "height": 444
        },
        "id": "g-cocHfQpbzf",
        "outputId": "44852ecc-03e4-4215-87ce-0c8db6327e33"
      },
      "source": [
        "# Biểu đồ train loss và val_loss\n",
        "\n",
        "def plot_history(history, samples=10, init_phase_samples=None):\n",
        "    epochs = history.params['epochs']\n",
        "\n",
        "    loss = history.history['loss']\n",
        "    val_loss = history.history['val_loss']\n",
        "\n",
        "    every_sample =  int(epochs / samples)\n",
        "    loss = pd.DataFrame(loss).iloc[::every_sample, :]\n",
        "    val_loss = pd.DataFrame(val_loss).iloc[::every_sample, :]\n",
        "\n",
        "    fig, ax = plt.subplots(figsize=(5,7))\n",
        "\n",
        "    ax.plot(loss, 'b', label='Training loss', color = 'orange')\n",
        "    ax.plot(val_loss, 'b', label='Validation loss')\n",
        "    ax.set_title('Training and validation loss')\n",
        "    ax.legend()\n",
        "\n",
        "plot_history(history)"
      ],
      "execution_count": 67,
      "outputs": [
        {
          "output_type": "display_data",
          "data": {
            "image/png": "[encoded data removed]",
            "text/plain": [
              "<Figure size 360x504 with 1 Axes>"
            ]
          },
          "metadata": {
            "tags": [],
            "needs_background": "light"
          }
        }
      ]
    }
  ]
}