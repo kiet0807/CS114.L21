{
  "nbformat": 4,
  "nbformat_minor": 0,
  "metadata": {
    "colab": {
      "name": "NN_Clothes_Classification.ipynb",
      "provenance": [],
      "authorship_tag": "ABX9TyPiUHDI2xVyzXUudygknieq",
      "include_colab_link": true
    },
    "kernelspec": {
      "name": "python3",
      "display_name": "Python 3"
    },
    "language_info": {
      "name": "python"
    }
  },
  "cells": [
    {
      "cell_type": "markdown",
      "metadata": {
        "id": "view-in-github",
        "colab_type": "text"
      },
      "source": [
        "<a href=\"https://colab.research.google.com/github/kiet0807/CS114.L21/blob/main/NN_Clothes_Classification.ipynb\" target=\"_parent\"><img src=\"https://colab.research.google.com/assets/colab-badge.svg\" alt=\"Open In Colab\"/></a>"
      ]
    },
    {
      "cell_type": "code",
      "metadata": {
        "id": "dzLKpmZICaWN"
      },
      "source": [
        "import tensorflow as tf\n",
        "\n",
        "import numpy as np\n",
        "import matplotlib.pyplot as plt\n",
        "\n",
        "import pandas as pd"
      ],
      "execution_count": 1,
      "outputs": []
    },
    {
      "cell_type": "code",
      "metadata": {
        "id": "7MqDQO0KCaWS",
        "colab": {
          "base_uri": "https://localhost:8080/"
        },
        "outputId": "cbf2fe0b-e613-462b-a0b8-c4da378700fe"
      },
      "source": [
        "fashion_mnist = tf.keras.datasets.fashion_mnist\n",
        "\n",
        "(x_train, y_train), (x_test, y_test) = fashion_mnist.load_data()"
      ],
      "execution_count": 2,
      "outputs": [
        {
          "output_type": "stream",
          "text": [
            "Downloading data from https://storage.googleapis.com/tensorflow/tf-keras-datasets/train-labels-idx1-ubyte.gz\n",
            "32768/29515 [=================================] - 0s 0us/step\n",
            "Downloading data from https://storage.googleapis.com/tensorflow/tf-keras-datasets/train-images-idx3-ubyte.gz\n",
            "26427392/26421880 [==============================] - 1s 0us/step\n",
            "Downloading data from https://storage.googleapis.com/tensorflow/tf-keras-datasets/t10k-labels-idx1-ubyte.gz\n",
            "8192/5148 [===============================================] - 0s 0us/step\n",
            "Downloading data from https://storage.googleapis.com/tensorflow/tf-keras-datasets/t10k-images-idx3-ubyte.gz\n",
            "4423680/4422102 [==============================] - 0s 0us/step\n"
          ],
          "name": "stdout"
        }
      ]
    },
    {
      "cell_type": "code",
      "metadata": {
        "id": "IjnLH5S2CaWx",
        "colab": {
          "base_uri": "https://localhost:8080/"
        },
        "outputId": "4c323d25-2274-4d14-ec57-71fc419408d0"
      },
      "source": [
        "# Kích thước bộ dataset\n",
        "# Hình ảnh có kích thước 28x28\n",
        "\n",
        "print(\"x_train shape:\", x_train.shape, \"y_train shape:\", y_train.shape)"
      ],
      "execution_count": 3,
      "outputs": [
        {
          "output_type": "stream",
          "text": [
            "x_train shape: (60000, 28, 28) y_train shape: (60000,)\n"
          ],
          "name": "stdout"
        }
      ]
    },
    {
      "cell_type": "code",
      "metadata": {
        "id": "zW5k_xz1CaWX",
        "colab": {
          "base_uri": "https://localhost:8080/"
        },
        "outputId": "4ed534a2-1dbb-46d8-9e5a-3ef36f81b9c1"
      },
      "source": [
        "# Số lượng ảnh train và ảnh test\n",
        "\n",
        "print(x_train.shape[0], 'train set')\n",
        "print(x_test.shape[0], 'test set')"
      ],
      "execution_count": 4,
      "outputs": [
        {
          "output_type": "stream",
          "text": [
            "60000 train set\n",
            "10000 test set\n"
          ],
          "name": "stdout"
        }
      ]
    },
    {
      "cell_type": "code",
      "metadata": {
        "id": "TRFYHB2mCaWb",
        "colab": {
          "base_uri": "https://localhost:8080/",
          "height": 315
        },
        "outputId": "c18446b1-6476-4517-f27f-d13f47be0fa9"
      },
      "source": [
        "# Xác định label để vẽ biểu đồ\n",
        "\n",
        "fashion_mnist_labels = [\"T-shirt/top\",  # index 0\n",
        "                        \"Trouser\",      # index 1\n",
        "                        \"Pullover\",     # index 2 \n",
        "                        \"Dress\",        # index 3 \n",
        "                        \"Coat\",         # index 4\n",
        "                        \"Sandal\",       # index 5\n",
        "                        \"Shirt\",        # index 6 \n",
        "                        \"Sneaker\",      # index 7 \n",
        "                        \"Bag\",          # index 8 \n",
        "                        \"Ankle boot\"]   # index 9\n",
        "\n",
        "img_index = 5\n",
        "\n",
        "label_index = y_train[img_index]\n",
        "\n",
        "print (\"y = \" + str(label_index))\n",
        "\n",
        "print (\"label: \" + (fashion_mnist_labels[label_index]))\n",
        "\n",
        "plt.imshow(x_train[img_index])"
      ],
      "execution_count": 5,
      "outputs": [
        {
          "output_type": "stream",
          "text": [
            "y = 2\n",
            "label: Pullover\n"
          ],
          "name": "stdout"
        },
        {
          "output_type": "execute_result",
          "data": {
            "text/plain": [
              "<matplotlib.image.AxesImage at 0x7ff379a70350>"
            ]
          },
          "metadata": {
            "tags": []
          },
          "execution_count": 5
        },
        {
          "output_type": "display_data",
          "data": {
            "image/png": "[encoded data removed]",
            "text/plain": [
              "<Figure size 432x288 with 1 Axes>"
            ]
          },
          "metadata": {
            "tags": [],
            "needs_background": "light"
          }
        }
      ]
    },
    {
      "cell_type": "code",
      "metadata": {
        "id": "9ODch-OFCaW4"
      },
      "source": [
        "model = tf.keras.Sequential([\n",
        "    tf.keras.layers.Flatten(input_shape=(28, 28)),\n",
        "    tf.keras.layers.Dense(128, activation='relu'),\n",
        "    tf.keras.layers.Dense(10)\n",
        "])"
      ],
      "execution_count": 6,
      "outputs": []
    },
    {
      "cell_type": "code",
      "metadata": {
        "id": "Lhan11blCaW7"
      },
      "source": [
        "model.compile(optimizer='adam',\n",
        "              loss=tf.keras.losses.SparseCategoricalCrossentropy(from_logits=True),\n",
        "              metrics=['accuracy'])"
      ],
      "execution_count": 7,
      "outputs": []
    },
    {
      "cell_type": "code",
      "metadata": {
        "id": "xvwvpA64CaW_",
        "colab": {
          "base_uri": "https://localhost:8080/"
        },
        "outputId": "bd17de75-5210-4a8f-f252-5093590c1f4b"
      },
      "source": [
        "%time history = model.fit(x_train, y_train, epochs=100, batch_size=1000, validation_split=0.2, verbose=1)"
      ],
      "execution_count": 8,
      "outputs": [
        {
          "output_type": "stream",
          "text": [
            "Epoch 1/100\n",
            "48/48 [==============================] - 1s 19ms/step - loss: 34.6881 - accuracy: 0.6056 - val_loss: 9.8885 - val_accuracy: 0.7227\n",
            "Epoch 2/100\n",
            "48/48 [==============================] - 1s 16ms/step - loss: 7.1127 - accuracy: 0.7611 - val_loss: 5.9777 - val_accuracy: 0.7676\n",
            "Epoch 3/100\n",
            "48/48 [==============================] - 1s 15ms/step - loss: 4.9328 - accuracy: 0.7796 - val_loss: 4.5057 - val_accuracy: 0.7753\n",
            "Epoch 4/100\n",
            "48/48 [==============================] - 1s 17ms/step - loss: 3.7647 - accuracy: 0.7927 - val_loss: 3.6860 - val_accuracy: 0.7879\n",
            "Epoch 5/100\n",
            "48/48 [==============================] - 1s 16ms/step - loss: 3.0583 - accuracy: 0.7973 - val_loss: 3.0194 - val_accuracy: 0.7947\n",
            "Epoch 6/100\n",
            "48/48 [==============================] - 1s 16ms/step - loss: 2.5054 - accuracy: 0.8026 - val_loss: 2.5627 - val_accuracy: 0.7967\n",
            "Epoch 7/100\n",
            "48/48 [==============================] - 1s 16ms/step - loss: 2.1163 - accuracy: 0.8048 - val_loss: 2.2257 - val_accuracy: 0.7873\n",
            "Epoch 8/100\n",
            "48/48 [==============================] - 1s 16ms/step - loss: 1.7033 - accuracy: 0.8067 - val_loss: 1.9243 - val_accuracy: 0.7853\n",
            "Epoch 9/100\n",
            "48/48 [==============================] - 1s 16ms/step - loss: 1.3873 - accuracy: 0.8082 - val_loss: 1.6175 - val_accuracy: 0.7859\n",
            "Epoch 10/100\n",
            "48/48 [==============================] - 1s 16ms/step - loss: 1.1998 - accuracy: 0.8102 - val_loss: 1.4663 - val_accuracy: 0.7889\n",
            "Epoch 11/100\n",
            "48/48 [==============================] - 1s 16ms/step - loss: 1.0532 - accuracy: 0.8141 - val_loss: 1.3313 - val_accuracy: 0.7968\n",
            "Epoch 12/100\n",
            "48/48 [==============================] - 1s 16ms/step - loss: 0.9098 - accuracy: 0.8190 - val_loss: 1.2003 - val_accuracy: 0.7952\n",
            "Epoch 13/100\n",
            "48/48 [==============================] - 1s 15ms/step - loss: 0.8118 - accuracy: 0.8209 - val_loss: 1.0917 - val_accuracy: 0.7998\n",
            "Epoch 14/100\n",
            "48/48 [==============================] - 1s 16ms/step - loss: 0.7278 - accuracy: 0.8295 - val_loss: 1.0124 - val_accuracy: 0.8067\n",
            "Epoch 15/100\n",
            "48/48 [==============================] - 1s 16ms/step - loss: 0.6643 - accuracy: 0.8355 - val_loss: 0.9690 - val_accuracy: 0.8140\n",
            "Epoch 16/100\n",
            "48/48 [==============================] - 1s 16ms/step - loss: 0.6211 - accuracy: 0.8420 - val_loss: 0.9356 - val_accuracy: 0.8157\n",
            "Epoch 17/100\n",
            "48/48 [==============================] - 1s 16ms/step - loss: 0.5877 - accuracy: 0.8428 - val_loss: 0.8949 - val_accuracy: 0.8229\n",
            "Epoch 18/100\n",
            "48/48 [==============================] - 1s 16ms/step - loss: 0.5536 - accuracy: 0.8478 - val_loss: 0.8627 - val_accuracy: 0.8211\n",
            "Epoch 19/100\n",
            "48/48 [==============================] - 1s 16ms/step - loss: 0.5162 - accuracy: 0.8514 - val_loss: 0.8531 - val_accuracy: 0.8193\n",
            "Epoch 20/100\n",
            "48/48 [==============================] - 1s 16ms/step - loss: 0.5066 - accuracy: 0.8538 - val_loss: 0.8213 - val_accuracy: 0.8262\n",
            "Epoch 21/100\n",
            "48/48 [==============================] - 1s 15ms/step - loss: 0.4733 - accuracy: 0.8575 - val_loss: 0.7951 - val_accuracy: 0.8278\n",
            "Epoch 22/100\n",
            "48/48 [==============================] - 1s 16ms/step - loss: 0.4528 - accuracy: 0.8606 - val_loss: 0.7878 - val_accuracy: 0.8294\n",
            "Epoch 23/100\n",
            "48/48 [==============================] - 1s 16ms/step - loss: 0.4346 - accuracy: 0.8630 - val_loss: 0.7724 - val_accuracy: 0.8299\n",
            "Epoch 24/100\n",
            "48/48 [==============================] - 1s 16ms/step - loss: 0.4197 - accuracy: 0.8671 - val_loss: 0.7543 - val_accuracy: 0.8303\n",
            "Epoch 25/100\n",
            "48/48 [==============================] - 1s 15ms/step - loss: 0.4086 - accuracy: 0.8666 - val_loss: 0.7473 - val_accuracy: 0.8342\n",
            "Epoch 26/100\n",
            "48/48 [==============================] - 1s 16ms/step - loss: 0.3905 - accuracy: 0.8718 - val_loss: 0.7337 - val_accuracy: 0.8356\n",
            "Epoch 27/100\n",
            "48/48 [==============================] - 1s 16ms/step - loss: 0.3831 - accuracy: 0.8720 - val_loss: 0.7340 - val_accuracy: 0.8336\n",
            "Epoch 28/100\n",
            "48/48 [==============================] - 1s 16ms/step - loss: 0.3685 - accuracy: 0.8759 - val_loss: 0.7304 - val_accuracy: 0.8378\n",
            "Epoch 29/100\n",
            "48/48 [==============================] - 1s 16ms/step - loss: 0.3642 - accuracy: 0.8766 - val_loss: 0.7384 - val_accuracy: 0.8336\n",
            "Epoch 30/100\n",
            "48/48 [==============================] - 1s 16ms/step - loss: 0.3545 - accuracy: 0.8779 - val_loss: 0.7147 - val_accuracy: 0.8383\n",
            "Epoch 31/100\n",
            "48/48 [==============================] - 1s 16ms/step - loss: 0.3554 - accuracy: 0.8791 - val_loss: 0.7113 - val_accuracy: 0.8372\n",
            "Epoch 32/100\n",
            "48/48 [==============================] - 1s 16ms/step - loss: 0.3445 - accuracy: 0.8795 - val_loss: 0.7278 - val_accuracy: 0.8328\n",
            "Epoch 33/100\n",
            "48/48 [==============================] - 1s 16ms/step - loss: 0.3385 - accuracy: 0.8822 - val_loss: 0.7051 - val_accuracy: 0.8408\n",
            "Epoch 34/100\n",
            "48/48 [==============================] - 1s 16ms/step - loss: 0.3284 - accuracy: 0.8840 - val_loss: 0.6883 - val_accuracy: 0.8386\n",
            "Epoch 35/100\n",
            "48/48 [==============================] - 1s 16ms/step - loss: 0.3284 - accuracy: 0.8844 - val_loss: 0.7044 - val_accuracy: 0.8359\n",
            "Epoch 36/100\n",
            "48/48 [==============================] - 1s 16ms/step - loss: 0.3247 - accuracy: 0.8841 - val_loss: 0.6853 - val_accuracy: 0.8413\n",
            "Epoch 37/100\n",
            "48/48 [==============================] - 1s 15ms/step - loss: 0.3142 - accuracy: 0.8886 - val_loss: 0.6797 - val_accuracy: 0.8440\n",
            "Epoch 38/100\n",
            "48/48 [==============================] - 1s 16ms/step - loss: 0.3128 - accuracy: 0.8885 - val_loss: 0.7061 - val_accuracy: 0.8407\n",
            "Epoch 39/100\n",
            "48/48 [==============================] - 1s 16ms/step - loss: 0.3072 - accuracy: 0.8900 - val_loss: 0.6816 - val_accuracy: 0.8432\n",
            "Epoch 40/100\n",
            "48/48 [==============================] - 1s 16ms/step - loss: 0.3015 - accuracy: 0.8913 - val_loss: 0.6728 - val_accuracy: 0.8455\n",
            "Epoch 41/100\n",
            "48/48 [==============================] - 1s 16ms/step - loss: 0.2984 - accuracy: 0.8916 - val_loss: 0.6710 - val_accuracy: 0.8448\n",
            "Epoch 42/100\n",
            "48/48 [==============================] - 1s 17ms/step - loss: 0.2961 - accuracy: 0.8934 - val_loss: 0.6694 - val_accuracy: 0.8480\n",
            "Epoch 43/100\n",
            "48/48 [==============================] - 1s 17ms/step - loss: 0.2895 - accuracy: 0.8949 - val_loss: 0.6716 - val_accuracy: 0.8443\n",
            "Epoch 44/100\n",
            "48/48 [==============================] - 1s 16ms/step - loss: 0.2834 - accuracy: 0.8957 - val_loss: 0.6630 - val_accuracy: 0.8457\n",
            "Epoch 45/100\n",
            "48/48 [==============================] - 1s 16ms/step - loss: 0.2824 - accuracy: 0.8975 - val_loss: 0.6497 - val_accuracy: 0.8485\n",
            "Epoch 46/100\n",
            "48/48 [==============================] - 1s 16ms/step - loss: 0.2798 - accuracy: 0.8980 - val_loss: 0.6617 - val_accuracy: 0.8461\n",
            "Epoch 47/100\n",
            "48/48 [==============================] - 1s 17ms/step - loss: 0.2768 - accuracy: 0.8974 - val_loss: 0.6564 - val_accuracy: 0.8466\n",
            "Epoch 48/100\n",
            "48/48 [==============================] - 1s 18ms/step - loss: 0.2768 - accuracy: 0.8978 - val_loss: 0.6581 - val_accuracy: 0.8491\n",
            "Epoch 49/100\n",
            "48/48 [==============================] - 1s 17ms/step - loss: 0.2747 - accuracy: 0.8982 - val_loss: 0.6524 - val_accuracy: 0.8480\n",
            "Epoch 50/100\n",
            "48/48 [==============================] - 1s 17ms/step - loss: 0.2720 - accuracy: 0.8996 - val_loss: 0.6515 - val_accuracy: 0.8507\n",
            "Epoch 51/100\n",
            "48/48 [==============================] - 1s 16ms/step - loss: 0.2715 - accuracy: 0.8989 - val_loss: 0.6644 - val_accuracy: 0.8467\n",
            "Epoch 52/100\n",
            "48/48 [==============================] - 1s 17ms/step - loss: 0.2663 - accuracy: 0.9021 - val_loss: 0.6480 - val_accuracy: 0.8465\n",
            "Epoch 53/100\n",
            "48/48 [==============================] - 1s 17ms/step - loss: 0.2683 - accuracy: 0.8999 - val_loss: 0.6867 - val_accuracy: 0.8448\n",
            "Epoch 54/100\n",
            "48/48 [==============================] - 1s 16ms/step - loss: 0.2734 - accuracy: 0.8993 - val_loss: 0.6568 - val_accuracy: 0.8487\n",
            "Epoch 55/100\n",
            "48/48 [==============================] - 1s 16ms/step - loss: 0.2651 - accuracy: 0.9015 - val_loss: 0.6514 - val_accuracy: 0.8508\n",
            "Epoch 56/100\n",
            "48/48 [==============================] - 1s 16ms/step - loss: 0.2590 - accuracy: 0.9029 - val_loss: 0.6519 - val_accuracy: 0.8505\n",
            "Epoch 57/100\n",
            "48/48 [==============================] - 1s 17ms/step - loss: 0.2637 - accuracy: 0.9014 - val_loss: 0.6623 - val_accuracy: 0.8472\n",
            "Epoch 58/100\n",
            "48/48 [==============================] - 1s 16ms/step - loss: 0.2653 - accuracy: 0.9010 - val_loss: 0.6476 - val_accuracy: 0.8505\n",
            "Epoch 59/100\n",
            "48/48 [==============================] - 1s 17ms/step - loss: 0.2600 - accuracy: 0.9024 - val_loss: 0.6336 - val_accuracy: 0.8508\n",
            "Epoch 60/100\n",
            "48/48 [==============================] - 1s 16ms/step - loss: 0.2571 - accuracy: 0.9033 - val_loss: 0.6438 - val_accuracy: 0.8524\n",
            "Epoch 61/100\n",
            "48/48 [==============================] - 1s 17ms/step - loss: 0.2506 - accuracy: 0.9061 - val_loss: 0.6307 - val_accuracy: 0.8517\n",
            "Epoch 62/100\n",
            "48/48 [==============================] - 1s 17ms/step - loss: 0.2513 - accuracy: 0.9051 - val_loss: 0.6330 - val_accuracy: 0.8494\n",
            "Epoch 63/100\n",
            "48/48 [==============================] - 1s 16ms/step - loss: 0.2475 - accuracy: 0.9066 - val_loss: 0.6351 - val_accuracy: 0.8528\n",
            "Epoch 64/100\n",
            "48/48 [==============================] - 1s 16ms/step - loss: 0.2482 - accuracy: 0.9068 - val_loss: 0.6499 - val_accuracy: 0.8514\n",
            "Epoch 65/100\n",
            "48/48 [==============================] - 1s 16ms/step - loss: 0.2509 - accuracy: 0.9060 - val_loss: 0.6325 - val_accuracy: 0.8512\n",
            "Epoch 66/100\n",
            "48/48 [==============================] - 1s 16ms/step - loss: 0.2476 - accuracy: 0.9071 - val_loss: 0.6420 - val_accuracy: 0.8501\n",
            "Epoch 67/100\n",
            "48/48 [==============================] - 1s 16ms/step - loss: 0.2442 - accuracy: 0.9065 - val_loss: 0.6305 - val_accuracy: 0.8529\n",
            "Epoch 68/100\n",
            "48/48 [==============================] - 1s 16ms/step - loss: 0.2472 - accuracy: 0.9066 - val_loss: 0.6409 - val_accuracy: 0.8533\n",
            "Epoch 69/100\n",
            "48/48 [==============================] - 1s 17ms/step - loss: 0.2443 - accuracy: 0.9073 - val_loss: 0.6379 - val_accuracy: 0.8534\n",
            "Epoch 70/100\n",
            "48/48 [==============================] - 1s 16ms/step - loss: 0.2421 - accuracy: 0.9086 - val_loss: 0.6372 - val_accuracy: 0.8533\n",
            "Epoch 71/100\n",
            "48/48 [==============================] - 1s 17ms/step - loss: 0.2420 - accuracy: 0.9077 - val_loss: 0.6512 - val_accuracy: 0.8551\n",
            "Epoch 72/100\n",
            "48/48 [==============================] - 1s 17ms/step - loss: 0.2447 - accuracy: 0.9073 - val_loss: 0.6629 - val_accuracy: 0.8537\n",
            "Epoch 73/100\n",
            "48/48 [==============================] - 1s 17ms/step - loss: 0.2376 - accuracy: 0.9100 - val_loss: 0.6246 - val_accuracy: 0.8537\n",
            "Epoch 74/100\n",
            "48/48 [==============================] - 1s 16ms/step - loss: 0.2410 - accuracy: 0.9095 - val_loss: 0.6388 - val_accuracy: 0.8548\n",
            "Epoch 75/100\n",
            "48/48 [==============================] - 1s 17ms/step - loss: 0.2331 - accuracy: 0.9101 - val_loss: 0.6777 - val_accuracy: 0.8514\n",
            "Epoch 76/100\n",
            "48/48 [==============================] - 1s 17ms/step - loss: 0.2418 - accuracy: 0.9082 - val_loss: 0.6452 - val_accuracy: 0.8572\n",
            "Epoch 77/100\n",
            "48/48 [==============================] - 1s 16ms/step - loss: 0.2330 - accuracy: 0.9112 - val_loss: 0.6722 - val_accuracy: 0.8468\n",
            "Epoch 78/100\n",
            "48/48 [==============================] - 1s 17ms/step - loss: 0.2455 - accuracy: 0.9071 - val_loss: 0.6520 - val_accuracy: 0.8512\n",
            "Epoch 79/100\n",
            "48/48 [==============================] - 1s 17ms/step - loss: 0.2378 - accuracy: 0.9088 - val_loss: 0.6567 - val_accuracy: 0.8527\n",
            "Epoch 80/100\n",
            "48/48 [==============================] - 1s 17ms/step - loss: 0.2300 - accuracy: 0.9116 - val_loss: 0.6507 - val_accuracy: 0.8584\n",
            "Epoch 81/100\n",
            "48/48 [==============================] - 1s 17ms/step - loss: 0.2296 - accuracy: 0.9119 - val_loss: 0.6287 - val_accuracy: 0.8573\n",
            "Epoch 82/100\n",
            "48/48 [==============================] - 1s 18ms/step - loss: 0.2271 - accuracy: 0.9141 - val_loss: 0.6391 - val_accuracy: 0.8597\n",
            "Epoch 83/100\n",
            "48/48 [==============================] - 1s 18ms/step - loss: 0.2365 - accuracy: 0.9104 - val_loss: 0.6426 - val_accuracy: 0.8557\n",
            "Epoch 84/100\n",
            "48/48 [==============================] - 1s 18ms/step - loss: 0.2332 - accuracy: 0.9105 - val_loss: 0.6606 - val_accuracy: 0.8556\n",
            "Epoch 85/100\n",
            "48/48 [==============================] - 1s 17ms/step - loss: 0.2439 - accuracy: 0.9085 - val_loss: 0.6593 - val_accuracy: 0.8548\n",
            "Epoch 86/100\n",
            "48/48 [==============================] - 1s 18ms/step - loss: 0.2403 - accuracy: 0.9091 - val_loss: 0.6731 - val_accuracy: 0.8558\n",
            "Epoch 87/100\n",
            "48/48 [==============================] - 1s 17ms/step - loss: 0.2323 - accuracy: 0.9123 - val_loss: 0.6529 - val_accuracy: 0.8572\n",
            "Epoch 88/100\n",
            "48/48 [==============================] - 1s 17ms/step - loss: 0.2373 - accuracy: 0.9098 - val_loss: 0.6625 - val_accuracy: 0.8555\n",
            "Epoch 89/100\n",
            "48/48 [==============================] - 1s 17ms/step - loss: 0.2317 - accuracy: 0.9118 - val_loss: 0.6314 - val_accuracy: 0.8583\n",
            "Epoch 90/100\n",
            "48/48 [==============================] - 1s 16ms/step - loss: 0.2408 - accuracy: 0.9093 - val_loss: 0.6445 - val_accuracy: 0.8568\n",
            "Epoch 91/100\n",
            "48/48 [==============================] - 1s 17ms/step - loss: 0.2430 - accuracy: 0.9098 - val_loss: 0.6320 - val_accuracy: 0.8561\n",
            "Epoch 92/100\n",
            "48/48 [==============================] - 1s 16ms/step - loss: 0.2342 - accuracy: 0.9106 - val_loss: 0.6233 - val_accuracy: 0.8603\n",
            "Epoch 93/100\n",
            "48/48 [==============================] - 1s 16ms/step - loss: 0.2293 - accuracy: 0.9129 - val_loss: 0.6287 - val_accuracy: 0.8560\n",
            "Epoch 94/100\n",
            "48/48 [==============================] - 1s 16ms/step - loss: 0.2274 - accuracy: 0.9128 - val_loss: 0.6226 - val_accuracy: 0.8546\n",
            "Epoch 95/100\n",
            "48/48 [==============================] - 1s 16ms/step - loss: 0.2289 - accuracy: 0.9120 - val_loss: 0.6372 - val_accuracy: 0.8580\n",
            "Epoch 96/100\n",
            "48/48 [==============================] - 1s 17ms/step - loss: 0.2309 - accuracy: 0.9124 - val_loss: 0.6370 - val_accuracy: 0.8594\n",
            "Epoch 97/100\n",
            "48/48 [==============================] - 1s 18ms/step - loss: 0.2250 - accuracy: 0.9144 - val_loss: 0.6483 - val_accuracy: 0.8599\n",
            "Epoch 98/100\n",
            "48/48 [==============================] - 1s 18ms/step - loss: 0.2208 - accuracy: 0.9151 - val_loss: 0.6424 - val_accuracy: 0.8597\n",
            "Epoch 99/100\n",
            "48/48 [==============================] - 1s 17ms/step - loss: 0.2145 - accuracy: 0.9172 - val_loss: 0.6218 - val_accuracy: 0.8612\n",
            "Epoch 100/100\n",
            "48/48 [==============================] - 1s 17ms/step - loss: 0.2200 - accuracy: 0.9158 - val_loss: 0.6494 - val_accuracy: 0.8558\n",
            "CPU times: user 2min 1s, sys: 5.21 s, total: 2min 6s\n",
            "Wall time: 1min 19s\n"
          ],
          "name": "stdout"
        }
      ]
    },
    {
      "cell_type": "code",
      "metadata": {
        "colab": {
          "base_uri": "https://localhost:8080/"
        },
        "id": "3hz87QMduQTL",
        "outputId": "fe5e37f6-39c6-45a0-8f56-aadccc70555b"
      },
      "source": [
        "train_loss, train_accuracy = model.evaluate(x_train, y_train, batch_size=1000)\n",
        "print(\"Train Accuracy: \" ,train_accuracy)\n",
        "print(\"Train Loss: \" ,train_loss)"
      ],
      "execution_count": 21,
      "outputs": [
        {
          "output_type": "stream",
          "text": [
            "60/60 [==============================] - 1s 8ms/step - loss: 0.3030 - accuracy: 0.9043\n",
            "Train Accuracy:  0.9043499827384949\n",
            "Train Loss:  0.3029870092868805\n"
          ],
          "name": "stdout"
        }
      ]
    },
    {
      "cell_type": "code",
      "metadata": {
        "id": "VflXLEeECaXC",
        "colab": {
          "base_uri": "https://localhost:8080/"
        },
        "outputId": "312705e2-746f-4c78-93cc-5243e606744b"
      },
      "source": [
        "test_loss, test_acc = model.evaluate(x_test,  y_test, batch_size = 1000)\n",
        "\n",
        "print('\\nTest accuracy:', test_acc)\n",
        "print('\\nTest loss:', test_loss)"
      ],
      "execution_count": 9,
      "outputs": [
        {
          "output_type": "stream",
          "text": [
            "10/10 [==============================] - 0s 9ms/step - loss: 0.6996 - accuracy: 0.8511\n",
            "\n",
            "Test accuracy: 0.8511000275611877\n",
            "\n",
            "Test loss: 0.6995856761932373\n"
          ],
          "name": "stdout"
        }
      ]
    },
    {
      "cell_type": "code",
      "metadata": {
        "id": "DnfNA0CrQLSD"
      },
      "source": [
        "probability_model = tf.keras.Sequential([model, \n",
        "                                         tf.keras.layers.Softmax()])"
      ],
      "execution_count": 10,
      "outputs": []
    },
    {
      "cell_type": "code",
      "metadata": {
        "id": "Gl91RPhdCaXI"
      },
      "source": [
        "predictions = probability_model.predict(x_test)"
      ],
      "execution_count": 11,
      "outputs": []
    },
    {
      "cell_type": "code",
      "metadata": {
        "id": "3DmJEUinCaXK",
        "colab": {
          "base_uri": "https://localhost:8080/"
        },
        "outputId": "598f463c-9d45-420b-b8fe-8500dbb15ccf"
      },
      "source": [
        "predictions[0]"
      ],
      "execution_count": 12,
      "outputs": [
        {
          "output_type": "execute_result",
          "data": {
            "text/plain": [
              "array([0.0000000e+00, 0.0000000e+00, 0.0000000e+00, 0.0000000e+00,\n",
              "       8.2360751e-38, 9.1999986e-16, 3.7246661e-27, 1.3867960e-07,\n",
              "       1.3230416e-31, 9.9999988e-01], dtype=float32)"
            ]
          },
          "metadata": {
            "tags": []
          },
          "execution_count": 12
        }
      ]
    },
    {
      "cell_type": "code",
      "metadata": {
        "id": "qsqenuPnCaXO",
        "colab": {
          "base_uri": "https://localhost:8080/"
        },
        "outputId": "691b7e40-5728-4ff1-d78a-cba3f9cfda7c"
      },
      "source": [
        "np.argmax(predictions[0])\n"
      ],
      "execution_count": 13,
      "outputs": [
        {
          "output_type": "execute_result",
          "data": {
            "text/plain": [
              "9"
            ]
          },
          "metadata": {
            "tags": []
          },
          "execution_count": 13
        }
      ]
    },
    {
      "cell_type": "code",
      "metadata": {
        "id": "Sd7Pgsu6CaXP",
        "colab": {
          "base_uri": "https://localhost:8080/"
        },
        "outputId": "4400c131-bc99-4965-8d4e-62414f475adf"
      },
      "source": [
        "y_test[0]"
      ],
      "execution_count": 14,
      "outputs": [
        {
          "output_type": "execute_result",
          "data": {
            "text/plain": [
              "9"
            ]
          },
          "metadata": {
            "tags": []
          },
          "execution_count": 14
        }
      ]
    },
    {
      "cell_type": "code",
      "metadata": {
        "id": "DvYmmrpIy6Y1"
      },
      "source": [
        "def plot_image(i, predictions_array, true_label, img):\n",
        "  true_label, img = true_label[i], img[i]\n",
        "  plt.grid(False)\n",
        "  plt.xticks([])\n",
        "  plt.yticks([])\n",
        "\n",
        "  plt.imshow(np.squeeze(img))\n",
        "\n",
        "  predicted_label = np.argmax(predictions_array)\n",
        "  if predicted_label == true_label:\n",
        "    color = 'blue'\n",
        "  else:\n",
        "    color = 'red'\n",
        "\n",
        "  plt.title(\"{} {:2.0f}% ({})\".format(fashion_mnist_labels[predicted_label],\n",
        "                                100*np.max(predictions_array),\n",
        "                                fashion_mnist_labels[true_label]),\n",
        "                                color=color)"
      ],
      "execution_count": 42,
      "outputs": []
    },
    {
      "cell_type": "code",
      "metadata": {
        "id": "Ko-uzOufSCSe",
        "colab": {
          "base_uri": "https://localhost:8080/",
          "height": 203
        },
        "outputId": "3134fd58-418c-4437-b82d-321e55675af4"
      },
      "source": [
        "i = 2540\n",
        "plt.figure(figsize=(6,3))\n",
        "plt.subplot(1,2,1)\n",
        "plot_image(i, predictions[i], y_test, x_test)\n",
        "plt.show()"
      ],
      "execution_count": 46,
      "outputs": [
        {
          "output_type": "display_data",
          "data": {
            "image/png": "[encoded data removed]",
            "text/plain": [
              "<Figure size 432x216 with 1 Axes>"
            ]
          },
          "metadata": {
            "tags": []
          }
        }
      ]
    },
    {
      "cell_type": "code",
      "metadata": {
        "colab": {
          "base_uri": "https://localhost:8080/",
          "height": 375
        },
        "id": "6lgOzsUancKw",
        "outputId": "da20dc5d-854e-4d2d-f0a1-67cca6c97548"
      },
      "source": [
        "num_rows = 3\n",
        "num_cols = 5\n",
        "num_images = num_rows*num_cols\n",
        "plt.figure(figsize=(2*2*num_cols, 2*num_rows))\n",
        "for i, index in enumerate(np.random.choice(x_test.shape[0], size=15, replace=False)):\n",
        "  plt.subplot(num_rows, 2*num_cols, 2*i+1)\n",
        "  plot_image(index, predictions[index], y_test, x_test)\n",
        "plt.show()"
      ],
      "execution_count": 44,
      "outputs": [
        {
          "output_type": "display_data",
          "data": {
            "image/png": "[encoded data removed]",
            "text/plain": [
              "<Figure size 1440x432 with 15 Axes>"
            ]
          },
          "metadata": {
            "tags": []
          }
        }
      ]
    },
    {
      "cell_type": "code",
      "metadata": {
        "colab": {
          "base_uri": "https://localhost:8080/",
          "height": 444
        },
        "id": "ABjjmgFNonNQ",
        "outputId": "eb9c629b-b9bd-442b-fc2f-3c00d7c8f352"
      },
      "source": [
        "# Biểu đồ train accuracy và val_accuracy\n",
        "\n",
        "def plot_history(history, samples=10, init_phase_samples=None):\n",
        "    epochs = history.params['epochs']\n",
        "    \n",
        "    acc = history.history['accuracy']\n",
        "    val_acc = history.history['val_accuracy']\n",
        "\n",
        "    every_sample =  int(epochs / samples)\n",
        "    acc = pd.DataFrame(acc).iloc[::every_sample, :]\n",
        "    val_acc = pd.DataFrame(val_acc).iloc[::every_sample, :]\n",
        "\n",
        "    fig, ax = plt.subplots(figsize=(5,7))\n",
        "\n",
        "    ax.plot(acc, 'b', label='Training acc', color = 'orange')\n",
        "    ax.plot(val_acc, 'b', label='Validation acc')\n",
        "    ax.set_title('Training and validation accuracy')\n",
        "    ax.legend()\n",
        "\n",
        "plot_history(history)"
      ],
      "execution_count": 18,
      "outputs": [
        {
          "output_type": "display_data",
          "data": {
            "image/png": "[encoded data removed]",
            "text/plain": [
              "<Figure size 360x504 with 1 Axes>"
            ]
          },
          "metadata": {
            "tags": [],
            "needs_background": "light"
          }
        }
      ]
    },
    {
      "cell_type": "code",
      "metadata": {
        "colab": {
          "base_uri": "https://localhost:8080/",
          "height": 444
        },
        "id": "g-cocHfQpbzf",
        "outputId": "477d197e-c255-4a9b-adfc-a923ede6d59b"
      },
      "source": [
        "# Biểu đồ train loss và val_loss\n",
        "\n",
        "def plot_history(history, samples=10, init_phase_samples=None):\n",
        "    epochs = history.params['epochs']\n",
        "\n",
        "    loss = history.history['loss']\n",
        "    val_loss = history.history['val_loss']\n",
        "\n",
        "    every_sample =  int(epochs / samples)\n",
        "    loss = pd.DataFrame(loss).iloc[::every_sample, :]\n",
        "    val_loss = pd.DataFrame(val_loss).iloc[::every_sample, :]\n",
        "\n",
        "    fig, ax = plt.subplots(figsize=(5,7))\n",
        "\n",
        "    ax.plot(loss, 'b', label='Training loss', color = 'orange')\n",
        "    ax.plot(val_loss, 'b', label='Validation loss')\n",
        "    ax.set_title('Training and validation loss')\n",
        "    ax.legend()\n",
        "\n",
        "plot_history(history)"
      ],
      "execution_count": 19,
      "outputs": [
        {
          "output_type": "display_data",
          "data": {
            "image/png": "[encoded data removed]",
            "text/plain": [
              "<Figure size 360x504 with 1 Axes>"
            ]
          },
          "metadata": {
            "tags": [],
            "needs_background": "light"
          }
        }
      ]
    }
  ]
}