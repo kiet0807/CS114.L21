{
  "nbformat": 4,
  "nbformat_minor": 0,
  "metadata": {
    "colab": {
      "name": "TomTat_Project",
      "provenance": [],
      "collapsed_sections": [],
      "authorship_tag": "ABX9TyNcKPpfsvAKgQp+Y/1a9fz4",
      "include_colab_link": true
    },
    "kernelspec": {
      "name": "python3",
      "display_name": "Python 3"
    },
    "language_info": {
      "name": "python"
    }
  },
  "cells": [
    {
      "cell_type": "markdown",
      "metadata": {
        "id": "view-in-github",
        "colab_type": "text"
      },
      "source": [
        "<a href=\"https://colab.research.google.com/github/kiet0807/CS114.L21/blob/main/TomTat_Project.ipynb\" target=\"_parent\"><img src=\"https://colab.research.google.com/assets/colab-badge.svg\" alt=\"Open In Colab\"/></a>"
      ]
    },
    {
      "cell_type": "markdown",
      "metadata": {
        "id": "KjXqXv5_kSQL"
      },
      "source": [
        "# **PHÂN LOẠI QUẦN ÁO (Clothes Classification)**\n"
      ]
    },
    {
      "cell_type": "markdown",
      "metadata": {
        "id": "WGpvEbkYPtHn"
      },
      "source": [
        "\n",
        "* **Môn học:** Machine Learning - CS114.L21\n",
        "\n",
        "\n",
        "\n",
        "\n",
        "\n",
        "\n",
        "\n",
        "\n",
        "\n",
        "\n",
        "\n",
        "\n",
        "\n",
        "\n"
      ]
    },
    {
      "cell_type": "markdown",
      "metadata": {
        "id": "iStDBACZk7Wr"
      },
      "source": [
        "* **Giảng viên hướng dẫn:**\n",
        " *   Thầy Phạm Nguyễn Trường An\n",
        " *   Thầy Lê Đình Duy\n"
      ]
    },
    {
      "cell_type": "markdown",
      "metadata": {
        "id": "fdiVSTGYk_0H"
      },
      "source": [
        "* **Thành viên:**\n",
        " * Nguyễn Văn Kiệt - 15520401\n",
        " * Lê Xuân Trường - 19522444\n",
        " * Lê Duy Hoàng - 19521533"
      ]
    },
    {
      "cell_type": "markdown",
      "metadata": {
        "id": "HeclS6htatBo"
      },
      "source": [
        "## **I. Mô tả bài toán**\n",
        "* Input: Ảnh xám về quần áo có kích thướng 28x28 pixel\n",
        "* Output: Ảnh xám được đã được phân loại"
      ]
    },
    {
      "cell_type": "markdown",
      "metadata": {
        "id": "ziHgsHr2atcq"
      },
      "source": [
        "## **II. Mô tả bộ dữ liệu**\n",
        "* Em sử dụng tập dữ liệu Fashion - MNIST. Tập dữ liệu bao gồm 70.000 ảnh xám vuông (28x28 pixel) về 10 loại quần áo. \n",
        "* Được chia thành 2 file: \n",
        "  * 60.000 ảnh gồm tập train và tập validation\n",
        "  * 10.000 ảnh test\n",
        "\n",
        "  <image width = 500px height = 500px src = \"https://miro.medium.com/max/875/1*GNLB2jtcfb_xTqgQd9ntJA.png\"/>\n",
        "\n",
        "* Mỗi hàng được gán 1 label cụ thể: \n",
        "\n",
        "  0. T-shirt/top\n",
        "  1. Trouser\n",
        "  2. Pullover\n",
        "  3. Dress\n",
        "  4. Coat\n",
        "  5. Sandal\n",
        "  6. Shirt\n",
        "  7. Sneaker\n",
        "  8. Bag\n",
        "  9. Ankle boot\n",
        "\n",
        "* Trước khi bắt đầu train model: \n",
        "  * Xác định các label để sau này vẽ biểu đồ tham khảo\n",
        "  * reshape ảnh về ở dạng 28x28x1\n",
        "\n",
        "\n",
        "\n",
        "\n"
      ]
    },
    {
      "cell_type": "markdown",
      "metadata": {
        "id": "sB0MR__kfExF"
      },
      "source": [
        "## **III. Mô tả đặc trưng, thuật toán**\n",
        "\n",
        "* Em sử dụng bộ dataset này trên 2 model sử dụng thuật toán Neural Network (NN - Mạng nơ-ron) và thuật toán Convolutional Neural Network (CNN – Mạng nơ-ron tích chập).\n",
        "\n",
        "* Sau khi train model em sẽ vẽ biểu đồ trích xuất accuracy và loss của 2 model trên để so sánh.\n"
      ]
    }
  ]
}