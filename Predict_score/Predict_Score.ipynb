{
 "metadata": {
  "language_info": {
   "codemirror_mode": {
    "name": "ipython",
    "version": 3
   },
   "file_extension": ".py",
   "mimetype": "text/x-python",
   "name": "python",
   "nbconvert_exporter": "python",
   "pygments_lexer": "ipython3",
   "version": "3.9.2"
  },
  "orig_nbformat": 2,
  "kernelspec": {
   "name": "python392jvsc74a57bd0381a7ae8d7e056fb966701069795ec67acbaeb5fbc2ac126e4b826837b4e3a3b",
   "display_name": "Python 3.9.2 64-bit"
  }
 },
 "nbformat": 4,
 "nbformat_minor": 2,
 "cells": [
  {
   "cell_type": "code",
   "execution_count": 2,
   "metadata": {},
   "outputs": [],
   "source": [
    "import matplotlib.pyplot as plt\n",
    "import seaborn as sns\n",
    "import pandas as pd\n",
    "import numpy as np\n",
    "%matplotlib inline\n"
   ]
  },
  {
   "cell_type": "code",
   "execution_count": 6,
   "metadata": {},
   "outputs": [],
   "source": [
    "info = pd.read_csv('./wecode.csv', encoding='utf-8', sep=',')"
   ]
  },
  {
   "cell_type": "code",
   "execution_count": 7,
   "metadata": {},
   "outputs": [
    {
     "output_type": "execute_result",
     "data": {
      "text/plain": [
       "   id  assignment_id  problem_id  user_id  is_final             status  \\\n",
       "0   4              0           3        4         1              SCORE   \n",
       "1   5              0           4        4         1              SCORE   \n",
       "2   6              0           5        4         0  Compilation Error   \n",
       "3   7              0           5        4         0  Compilation Error   \n",
       "4   8              0           5        4         0  Compilation Error   \n",
       "\n",
       "   pre_score coefficient   file_name  language_id           created_at  \\\n",
       "0      10000         100  solution-0            2  2020-10-30 10:58:11   \n",
       "1      10000         100  solution-1            2  2020-10-30 11:07:09   \n",
       "2          0         100  solution-2            2  2020-10-30 11:08:01   \n",
       "3          0         100  solution-3            2  2020-10-30 11:11:41   \n",
       "4          0         100  solution-4            2  2020-10-30 11:15:06   \n",
       "\n",
       "            updated_at  \n",
       "0  2020-10-30 10:58:19  \n",
       "1  2020-10-30 11:07:17  \n",
       "2  2020-10-30 11:23:36  \n",
       "3  2020-10-30 11:11:42  \n",
       "4  2020-10-30 11:15:07  "
      ],
      "text/html": "<div>\n<style scoped>\n    .dataframe tbody tr th:only-of-type {\n        vertical-align: middle;\n    }\n\n    .dataframe tbody tr th {\n        vertical-align: top;\n    }\n\n    .dataframe thead th {\n        text-align: right;\n    }\n</style>\n<table border=\"1\" class=\"dataframe\">\n  <thead>\n    <tr style=\"text-align: right;\">\n      <th></th>\n      <th>id</th>\n      <th>assignment_id</th>\n      <th>problem_id</th>\n      <th>user_id</th>\n      <th>is_final</th>\n      <th>status</th>\n      <th>pre_score</th>\n      <th>coefficient</th>\n      <th>file_name</th>\n      <th>language_id</th>\n      <th>created_at</th>\n      <th>updated_at</th>\n    </tr>\n  </thead>\n  <tbody>\n    <tr>\n      <th>0</th>\n      <td>4</td>\n      <td>0</td>\n      <td>3</td>\n      <td>4</td>\n      <td>1</td>\n      <td>SCORE</td>\n      <td>10000</td>\n      <td>100</td>\n      <td>solution-0</td>\n      <td>2</td>\n      <td>2020-10-30 10:58:11</td>\n      <td>2020-10-30 10:58:19</td>\n    </tr>\n    <tr>\n      <th>1</th>\n      <td>5</td>\n      <td>0</td>\n      <td>4</td>\n      <td>4</td>\n      <td>1</td>\n      <td>SCORE</td>\n      <td>10000</td>\n      <td>100</td>\n      <td>solution-1</td>\n      <td>2</td>\n      <td>2020-10-30 11:07:09</td>\n      <td>2020-10-30 11:07:17</td>\n    </tr>\n    <tr>\n      <th>2</th>\n      <td>6</td>\n      <td>0</td>\n      <td>5</td>\n      <td>4</td>\n      <td>0</td>\n      <td>Compilation Error</td>\n      <td>0</td>\n      <td>100</td>\n      <td>solution-2</td>\n      <td>2</td>\n      <td>2020-10-30 11:08:01</td>\n      <td>2020-10-30 11:23:36</td>\n    </tr>\n    <tr>\n      <th>3</th>\n      <td>7</td>\n      <td>0</td>\n      <td>5</td>\n      <td>4</td>\n      <td>0</td>\n      <td>Compilation Error</td>\n      <td>0</td>\n      <td>100</td>\n      <td>solution-3</td>\n      <td>2</td>\n      <td>2020-10-30 11:11:41</td>\n      <td>2020-10-30 11:11:42</td>\n    </tr>\n    <tr>\n      <th>4</th>\n      <td>8</td>\n      <td>0</td>\n      <td>5</td>\n      <td>4</td>\n      <td>0</td>\n      <td>Compilation Error</td>\n      <td>0</td>\n      <td>100</td>\n      <td>solution-4</td>\n      <td>2</td>\n      <td>2020-10-30 11:15:06</td>\n      <td>2020-10-30 11:15:07</td>\n    </tr>\n  </tbody>\n</table>\n</div>"
     },
     "metadata": {},
     "execution_count": 7
    }
   ],
   "source": [
    "info.head()\n"
   ]
  },
  {
   "cell_type": "code",
   "execution_count": 8,
   "metadata": {},
   "outputs": [
    {
     "output_type": "execute_result",
     "data": {
      "text/plain": [
       "          id  assignment_id  problem_id  user_id  is_final             status  \\\n",
       "13940  14008              0          81        1         1  Compilation Error   \n",
       "84860  84971              0         370        1         1              SCORE   \n",
       "0          4              0           3        4         1              SCORE   \n",
       "1          5              0           4        4         1              SCORE   \n",
       "2          6              0           5        4         0  Compilation Error   \n",
       "\n",
       "       pre_score coefficient      file_name  language_id           created_at  \\\n",
       "13940          0         100  solution-1791            2  2020-11-08 16:50:50   \n",
       "84860      10000         100  solution-2367            2  2020-12-01 01:59:52   \n",
       "0          10000         100     solution-0            2  2020-10-30 10:58:11   \n",
       "1          10000         100     solution-1            2  2020-10-30 11:07:09   \n",
       "2              0         100     solution-2            2  2020-10-30 11:08:01   \n",
       "\n",
       "                updated_at  \n",
       "13940  2020-11-08 16:50:50  \n",
       "84860  2020-12-01 02:00:05  \n",
       "0      2020-10-30 10:58:19  \n",
       "1      2020-10-30 11:07:17  \n",
       "2      2020-10-30 11:23:36  "
      ],
      "text/html": "<div>\n<style scoped>\n    .dataframe tbody tr th:only-of-type {\n        vertical-align: middle;\n    }\n\n    .dataframe tbody tr th {\n        vertical-align: top;\n    }\n\n    .dataframe thead th {\n        text-align: right;\n    }\n</style>\n<table border=\"1\" class=\"dataframe\">\n  <thead>\n    <tr style=\"text-align: right;\">\n      <th></th>\n      <th>id</th>\n      <th>assignment_id</th>\n      <th>problem_id</th>\n      <th>user_id</th>\n      <th>is_final</th>\n      <th>status</th>\n      <th>pre_score</th>\n      <th>coefficient</th>\n      <th>file_name</th>\n      <th>language_id</th>\n      <th>created_at</th>\n      <th>updated_at</th>\n    </tr>\n  </thead>\n  <tbody>\n    <tr>\n      <th>13940</th>\n      <td>14008</td>\n      <td>0</td>\n      <td>81</td>\n      <td>1</td>\n      <td>1</td>\n      <td>Compilation Error</td>\n      <td>0</td>\n      <td>100</td>\n      <td>solution-1791</td>\n      <td>2</td>\n      <td>2020-11-08 16:50:50</td>\n      <td>2020-11-08 16:50:50</td>\n    </tr>\n    <tr>\n      <th>84860</th>\n      <td>84971</td>\n      <td>0</td>\n      <td>370</td>\n      <td>1</td>\n      <td>1</td>\n      <td>SCORE</td>\n      <td>10000</td>\n      <td>100</td>\n      <td>solution-2367</td>\n      <td>2</td>\n      <td>2020-12-01 01:59:52</td>\n      <td>2020-12-01 02:00:05</td>\n    </tr>\n    <tr>\n      <th>0</th>\n      <td>4</td>\n      <td>0</td>\n      <td>3</td>\n      <td>4</td>\n      <td>1</td>\n      <td>SCORE</td>\n      <td>10000</td>\n      <td>100</td>\n      <td>solution-0</td>\n      <td>2</td>\n      <td>2020-10-30 10:58:11</td>\n      <td>2020-10-30 10:58:19</td>\n    </tr>\n    <tr>\n      <th>1</th>\n      <td>5</td>\n      <td>0</td>\n      <td>4</td>\n      <td>4</td>\n      <td>1</td>\n      <td>SCORE</td>\n      <td>10000</td>\n      <td>100</td>\n      <td>solution-1</td>\n      <td>2</td>\n      <td>2020-10-30 11:07:09</td>\n      <td>2020-10-30 11:07:17</td>\n    </tr>\n    <tr>\n      <th>2</th>\n      <td>6</td>\n      <td>0</td>\n      <td>5</td>\n      <td>4</td>\n      <td>0</td>\n      <td>Compilation Error</td>\n      <td>0</td>\n      <td>100</td>\n      <td>solution-2</td>\n      <td>2</td>\n      <td>2020-10-30 11:08:01</td>\n      <td>2020-10-30 11:23:36</td>\n    </tr>\n  </tbody>\n</table>\n</div>"
     },
     "metadata": {},
     "execution_count": 8
    }
   ],
   "source": [
    "sorted_info = info.sort_values(by=[\"user_id\",\"problem_id\"], ascending=True)\n",
    "sorted_info.head()"
   ]
  },
  {
   "cell_type": "code",
   "execution_count": 11,
   "metadata": {},
   "outputs": [
    {
     "output_type": "execute_result",
     "data": {
      "text/plain": [
       "                  count           mean           std  min       25%       50%  \\\n",
       "id             264606.0  132535.074908  76605.695631  4.0  66262.25  132413.5   \n",
       "assignment_id  264606.0     186.732429    109.768713  0.0     90.00     178.0   \n",
       "problem_id     264606.0     257.958074    158.359795  1.0    123.00     298.0   \n",
       "user_id        264606.0     935.002147    514.246324  1.0    497.00     925.0   \n",
       "is_final       264606.0       0.387349      0.487146  0.0      0.00       0.0   \n",
       "pre_score      264606.0    5596.454559   4393.183730  0.0      0.00    7000.0   \n",
       "language_id    264606.0       2.000317      0.025195  2.0      2.00       2.0   \n",
       "\n",
       "                     75%       max  \n",
       "id             198566.75  266671.0  \n",
       "assignment_id     286.00     384.0  \n",
       "problem_id        348.00     698.0  \n",
       "user_id          1393.00    1868.0  \n",
       "is_final            1.00       1.0  \n",
       "pre_score       10000.00   10000.0  \n",
       "language_id         2.00       4.0  "
      ],
      "text/html": "<div>\n<style scoped>\n    .dataframe tbody tr th:only-of-type {\n        vertical-align: middle;\n    }\n\n    .dataframe tbody tr th {\n        vertical-align: top;\n    }\n\n    .dataframe thead th {\n        text-align: right;\n    }\n</style>\n<table border=\"1\" class=\"dataframe\">\n  <thead>\n    <tr style=\"text-align: right;\">\n      <th></th>\n      <th>count</th>\n      <th>mean</th>\n      <th>std</th>\n      <th>min</th>\n      <th>25%</th>\n      <th>50%</th>\n      <th>75%</th>\n      <th>max</th>\n    </tr>\n  </thead>\n  <tbody>\n    <tr>\n      <th>id</th>\n      <td>264606.0</td>\n      <td>132535.074908</td>\n      <td>76605.695631</td>\n      <td>4.0</td>\n      <td>66262.25</td>\n      <td>132413.5</td>\n      <td>198566.75</td>\n      <td>266671.0</td>\n    </tr>\n    <tr>\n      <th>assignment_id</th>\n      <td>264606.0</td>\n      <td>186.732429</td>\n      <td>109.768713</td>\n      <td>0.0</td>\n      <td>90.00</td>\n      <td>178.0</td>\n      <td>286.00</td>\n      <td>384.0</td>\n    </tr>\n    <tr>\n      <th>problem_id</th>\n      <td>264606.0</td>\n      <td>257.958074</td>\n      <td>158.359795</td>\n      <td>1.0</td>\n      <td>123.00</td>\n      <td>298.0</td>\n      <td>348.00</td>\n      <td>698.0</td>\n    </tr>\n    <tr>\n      <th>user_id</th>\n      <td>264606.0</td>\n      <td>935.002147</td>\n      <td>514.246324</td>\n      <td>1.0</td>\n      <td>497.00</td>\n      <td>925.0</td>\n      <td>1393.00</td>\n      <td>1868.0</td>\n    </tr>\n    <tr>\n      <th>is_final</th>\n      <td>264606.0</td>\n      <td>0.387349</td>\n      <td>0.487146</td>\n      <td>0.0</td>\n      <td>0.00</td>\n      <td>0.0</td>\n      <td>1.00</td>\n      <td>1.0</td>\n    </tr>\n    <tr>\n      <th>pre_score</th>\n      <td>264606.0</td>\n      <td>5596.454559</td>\n      <td>4393.183730</td>\n      <td>0.0</td>\n      <td>0.00</td>\n      <td>7000.0</td>\n      <td>10000.00</td>\n      <td>10000.0</td>\n    </tr>\n    <tr>\n      <th>language_id</th>\n      <td>264606.0</td>\n      <td>2.000317</td>\n      <td>0.025195</td>\n      <td>2.0</td>\n      <td>2.00</td>\n      <td>2.0</td>\n      <td>2.00</td>\n      <td>4.0</td>\n    </tr>\n  </tbody>\n</table>\n</div>"
     },
     "metadata": {},
     "execution_count": 11
    }
   ],
   "source": [
    "info.describe().T"
   ]
  },
  {
   "cell_type": "code",
   "execution_count": 13,
   "metadata": {},
   "outputs": [
    {
     "output_type": "execute_result",
     "data": {
      "text/plain": [
       "               id  assignment_id  problem_id  is_final  pre_score  language_id\n",
       "user_id                                                                       \n",
       "1           98979              0         451         2      10000            4\n",
       "4         2025618              0        8518        38     466000          108\n",
       "5          317619            613         748         5      30000           12\n",
       "6        11670135            673       34030        88     965637          260\n",
       "7          792177              0        1700         2      18843           10\n",
       "11        6097888           7798       17855        12     317268          100\n",
       "14         921840           1458        3176         7     130428           44\n",
       "15        6719541           3143       22154        52     629946          202\n",
       "20         233334              0        1730        12     120000           26\n",
       "24       12553047          17751       37658        77    1031674          328\n",
       "27         121541            418         828         5      52000           26\n",
       "29       17867249          29272       45139        80    1225828          398\n",
       "31        2997281           4641        8213         3      89000           26\n",
       "34       25070916          39015       49874        84    1206981          436\n",
       "35       28754773          35188       63735       151    1809718          594\n",
       "37       37206853          48090       85438       102    1550820          624\n",
       "40       98221760         142584      186096       215    3356653         1328\n",
       "41       14438418          21328       29211        71     831328          220\n",
       "42       43404003          55485       97805       194    2411386          648\n",
       "43       64556330          93197      108590       159    2378013          896"
      ],
      "text/html": "<div>\n<style scoped>\n    .dataframe tbody tr th:only-of-type {\n        vertical-align: middle;\n    }\n\n    .dataframe tbody tr th {\n        vertical-align: top;\n    }\n\n    .dataframe thead th {\n        text-align: right;\n    }\n</style>\n<table border=\"1\" class=\"dataframe\">\n  <thead>\n    <tr style=\"text-align: right;\">\n      <th></th>\n      <th>id</th>\n      <th>assignment_id</th>\n      <th>problem_id</th>\n      <th>is_final</th>\n      <th>pre_score</th>\n      <th>language_id</th>\n    </tr>\n    <tr>\n      <th>user_id</th>\n      <th></th>\n      <th></th>\n      <th></th>\n      <th></th>\n      <th></th>\n      <th></th>\n    </tr>\n  </thead>\n  <tbody>\n    <tr>\n      <th>1</th>\n      <td>98979</td>\n      <td>0</td>\n      <td>451</td>\n      <td>2</td>\n      <td>10000</td>\n      <td>4</td>\n    </tr>\n    <tr>\n      <th>4</th>\n      <td>2025618</td>\n      <td>0</td>\n      <td>8518</td>\n      <td>38</td>\n      <td>466000</td>\n      <td>108</td>\n    </tr>\n    <tr>\n      <th>5</th>\n      <td>317619</td>\n      <td>613</td>\n      <td>748</td>\n      <td>5</td>\n      <td>30000</td>\n      <td>12</td>\n    </tr>\n    <tr>\n      <th>6</th>\n      <td>11670135</td>\n      <td>673</td>\n      <td>34030</td>\n      <td>88</td>\n      <td>965637</td>\n      <td>260</td>\n    </tr>\n    <tr>\n      <th>7</th>\n      <td>792177</td>\n      <td>0</td>\n      <td>1700</td>\n      <td>2</td>\n      <td>18843</td>\n      <td>10</td>\n    </tr>\n    <tr>\n      <th>11</th>\n      <td>6097888</td>\n      <td>7798</td>\n      <td>17855</td>\n      <td>12</td>\n      <td>317268</td>\n      <td>100</td>\n    </tr>\n    <tr>\n      <th>14</th>\n      <td>921840</td>\n      <td>1458</td>\n      <td>3176</td>\n      <td>7</td>\n      <td>130428</td>\n      <td>44</td>\n    </tr>\n    <tr>\n      <th>15</th>\n      <td>6719541</td>\n      <td>3143</td>\n      <td>22154</td>\n      <td>52</td>\n      <td>629946</td>\n      <td>202</td>\n    </tr>\n    <tr>\n      <th>20</th>\n      <td>233334</td>\n      <td>0</td>\n      <td>1730</td>\n      <td>12</td>\n      <td>120000</td>\n      <td>26</td>\n    </tr>\n    <tr>\n      <th>24</th>\n      <td>12553047</td>\n      <td>17751</td>\n      <td>37658</td>\n      <td>77</td>\n      <td>1031674</td>\n      <td>328</td>\n    </tr>\n    <tr>\n      <th>27</th>\n      <td>121541</td>\n      <td>418</td>\n      <td>828</td>\n      <td>5</td>\n      <td>52000</td>\n      <td>26</td>\n    </tr>\n    <tr>\n      <th>29</th>\n      <td>17867249</td>\n      <td>29272</td>\n      <td>45139</td>\n      <td>80</td>\n      <td>1225828</td>\n      <td>398</td>\n    </tr>\n    <tr>\n      <th>31</th>\n      <td>2997281</td>\n      <td>4641</td>\n      <td>8213</td>\n      <td>3</td>\n      <td>89000</td>\n      <td>26</td>\n    </tr>\n    <tr>\n      <th>34</th>\n      <td>25070916</td>\n      <td>39015</td>\n      <td>49874</td>\n      <td>84</td>\n      <td>1206981</td>\n      <td>436</td>\n    </tr>\n    <tr>\n      <th>35</th>\n      <td>28754773</td>\n      <td>35188</td>\n      <td>63735</td>\n      <td>151</td>\n      <td>1809718</td>\n      <td>594</td>\n    </tr>\n    <tr>\n      <th>37</th>\n      <td>37206853</td>\n      <td>48090</td>\n      <td>85438</td>\n      <td>102</td>\n      <td>1550820</td>\n      <td>624</td>\n    </tr>\n    <tr>\n      <th>40</th>\n      <td>98221760</td>\n      <td>142584</td>\n      <td>186096</td>\n      <td>215</td>\n      <td>3356653</td>\n      <td>1328</td>\n    </tr>\n    <tr>\n      <th>41</th>\n      <td>14438418</td>\n      <td>21328</td>\n      <td>29211</td>\n      <td>71</td>\n      <td>831328</td>\n      <td>220</td>\n    </tr>\n    <tr>\n      <th>42</th>\n      <td>43404003</td>\n      <td>55485</td>\n      <td>97805</td>\n      <td>194</td>\n      <td>2411386</td>\n      <td>648</td>\n    </tr>\n    <tr>\n      <th>43</th>\n      <td>64556330</td>\n      <td>93197</td>\n      <td>108590</td>\n      <td>159</td>\n      <td>2378013</td>\n      <td>896</td>\n    </tr>\n  </tbody>\n</table>\n</div>"
     },
     "metadata": {},
     "execution_count": 13
    }
   ],
   "source": [
    "userSubmit = info.groupby(['user_id']).sum()\n",
    "userSubmit.head(20)"
   ]
  },
  {
   "cell_type": "code",
   "execution_count": 12,
   "metadata": {},
   "outputs": [
    {
     "output_type": "execute_result",
     "data": {
      "text/plain": [
       "<bound method NDFrame.describe of             id  assignment_id  problem_id  user_id  is_final  \\\n",
       "0            4              0           3        4         1   \n",
       "1            5              0           4        4         1   \n",
       "2            6              0           5        4         0   \n",
       "3            7              0           5        4         0   \n",
       "4            8              0           5        4         0   \n",
       "...        ...            ...         ...      ...       ...   \n",
       "264601  266667              0          25     1796         0   \n",
       "264602  266668              0          25     1796         0   \n",
       "264603  266669              0          25     1796         1   \n",
       "264604  266670              0         150      255         1   \n",
       "264605  266671             21          24     1568         0   \n",
       "\n",
       "                   status  pre_score coefficient      file_name  language_id  \\\n",
       "0                   SCORE      10000         100     solution-0            2   \n",
       "1                   SCORE      10000         100     solution-1            2   \n",
       "2       Compilation Error          0         100     solution-2            2   \n",
       "3       Compilation Error          0         100     solution-3            2   \n",
       "4       Compilation Error          0         100     solution-4            2   \n",
       "...                   ...        ...         ...            ...          ...   \n",
       "264601              SCORE          0         100  solution-3977            4   \n",
       "264602  Compilation Error          0         100  solution-3978            2   \n",
       "264603              SCORE      10000         100  solution-3979            4   \n",
       "264604              SCORE       6250         100  solution-3980            2   \n",
       "264605              SCORE      10000         100   solution-609            4   \n",
       "\n",
       "                 created_at           updated_at  \n",
       "0       2020-10-30 10:58:11  2020-10-30 10:58:19  \n",
       "1       2020-10-30 11:07:09  2020-10-30 11:07:17  \n",
       "2       2020-10-30 11:08:01  2020-10-30 11:23:36  \n",
       "3       2020-10-30 11:11:41  2020-10-30 11:11:42  \n",
       "4       2020-10-30 11:15:06  2020-10-30 11:15:07  \n",
       "...                     ...                  ...  \n",
       "264601  2021-04-28 09:34:20  2021-04-28 09:34:27  \n",
       "264602  2021-04-28 09:35:07  2021-04-28 09:35:08  \n",
       "264603  2021-04-28 09:35:15  2021-04-28 09:35:21  \n",
       "264604  2021-05-11 01:34:57  2021-05-11 01:35:28  \n",
       "264605  2021-05-13 17:17:17  2021-05-13 17:17:40  \n",
       "\n",
       "[264606 rows x 12 columns]>"
      ]
     },
     "metadata": {},
     "execution_count": 12
    }
   ],
   "source": [
    "info.describe"
   ]
  }
 ]
}