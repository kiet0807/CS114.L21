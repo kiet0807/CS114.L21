{
 "metadata": {
  "language_info": {
   "codemirror_mode": {
    "name": "ipython",
    "version": 3
   },
   "file_extension": ".py",
   "mimetype": "text/x-python",
   "name": "python",
   "nbconvert_exporter": "python",
   "pygments_lexer": "ipython3",
   "version": "3.9.2"
  },
  "orig_nbformat": 2,
  "kernelspec": {
   "name": "python392jvsc74a57bd0381a7ae8d7e056fb966701069795ec67acbaeb5fbc2ac126e4b826837b4e3a3b",
   "display_name": "Python 3.9.2 64-bit"
  }
 },
 "nbformat": 4,
 "nbformat_minor": 2,
 "cells": [
  {
   "cell_type": "code",
   "execution_count": 2,
   "metadata": {},
   "outputs": [],
   "source": [
    "import matplotlib.pyplot as plt\n",
    "import seaborn as sns\n",
    "import pandas as pd\n",
    "import numpy as np\n",
    "%matplotlib inline\n"
   ]
  },
  {
   "cell_type": "code",
   "execution_count": 6,
   "metadata": {},
   "outputs": [],
   "source": [
    "info = pd.read_csv('./wecode.csv', encoding='utf-8', sep=',')"
   ]
  },
  {
   "cell_type": "code",
   "execution_count": 7,
   "metadata": {},
   "outputs": [
    {
     "output_type": "execute_result",
     "data": {
      "text/plain": [
       "   id  assignment_id  problem_id  user_id  is_final             status  \\\n",
       "0   4              0           3        4         1              SCORE   \n",
       "1   5              0           4        4         1              SCORE   \n",
       "2   6              0           5        4         0  Compilation Error   \n",
       "3   7              0           5        4         0  Compilation Error   \n",
       "4   8              0           5        4         0  Compilation Error   \n",
       "\n",
       "   pre_score coefficient   file_name  language_id           created_at  \\\n",
       "0      10000         100  solution-0            2  2020-10-30 10:58:11   \n",
       "1      10000         100  solution-1            2  2020-10-30 11:07:09   \n",
       "2          0         100  solution-2            2  2020-10-30 11:08:01   \n",
       "3          0         100  solution-3            2  2020-10-30 11:11:41   \n",
       "4          0         100  solution-4            2  2020-10-30 11:15:06   \n",
       "\n",
       "            updated_at  \n",
       "0  2020-10-30 10:58:19  \n",
       "1  2020-10-30 11:07:17  \n",
       "2  2020-10-30 11:23:36  \n",
       "3  2020-10-30 11:11:42  \n",
       "4  2020-10-30 11:15:07  "
      ],
      "text/html": "<div>\n<style scoped>\n    .dataframe tbody tr th:only-of-type {\n        vertical-align: middle;\n    }\n\n    .dataframe tbody tr th {\n        vertical-align: top;\n    }\n\n    .dataframe thead th {\n        text-align: right;\n    }\n</style>\n<table border=\"1\" class=\"dataframe\">\n  <thead>\n    <tr style=\"text-align: right;\">\n      <th></th>\n      <th>id</th>\n      <th>assignment_id</th>\n      <th>problem_id</th>\n      <th>user_id</th>\n      <th>is_final</th>\n      <th>status</th>\n      <th>pre_score</th>\n      <th>coefficient</th>\n      <th>file_name</th>\n      <th>language_id</th>\n      <th>created_at</th>\n      <th>updated_at</th>\n    </tr>\n  </thead>\n  <tbody>\n    <tr>\n      <th>0</th>\n      <td>4</td>\n      <td>0</td>\n      <td>3</td>\n      <td>4</td>\n      <td>1</td>\n      <td>SCORE</td>\n      <td>10000</td>\n      <td>100</td>\n      <td>solution-0</td>\n      <td>2</td>\n      <td>2020-10-30 10:58:11</td>\n      <td>2020-10-30 10:58:19</td>\n    </tr>\n    <tr>\n      <th>1</th>\n      <td>5</td>\n      <td>0</td>\n      <td>4</td>\n      <td>4</td>\n      <td>1</td>\n      <td>SCORE</td>\n      <td>10000</td>\n      <td>100</td>\n      <td>solution-1</td>\n      <td>2</td>\n      <td>2020-10-30 11:07:09</td>\n      <td>2020-10-30 11:07:17</td>\n    </tr>\n    <tr>\n      <th>2</th>\n      <td>6</td>\n      <td>0</td>\n      <td>5</td>\n      <td>4</td>\n      <td>0</td>\n      <td>Compilation Error</td>\n      <td>0</td>\n      <td>100</td>\n      <td>solution-2</td>\n      <td>2</td>\n      <td>2020-10-30 11:08:01</td>\n      <td>2020-10-30 11:23:36</td>\n    </tr>\n    <tr>\n      <th>3</th>\n      <td>7</td>\n      <td>0</td>\n      <td>5</td>\n      <td>4</td>\n      <td>0</td>\n      <td>Compilation Error</td>\n      <td>0</td>\n      <td>100</td>\n      <td>solution-3</td>\n      <td>2</td>\n      <td>2020-10-30 11:11:41</td>\n      <td>2020-10-30 11:11:42</td>\n    </tr>\n    <tr>\n      <th>4</th>\n      <td>8</td>\n      <td>0</td>\n      <td>5</td>\n      <td>4</td>\n      <td>0</td>\n      <td>Compilation Error</td>\n      <td>0</td>\n      <td>100</td>\n      <td>solution-4</td>\n      <td>2</td>\n      <td>2020-10-30 11:15:06</td>\n      <td>2020-10-30 11:15:07</td>\n    </tr>\n  </tbody>\n</table>\n</div>"
     },
     "metadata": {},
     "execution_count": 7
    }
   ],
   "source": [
    "info.head()\n"
   ]
  },
  {
   "cell_type": "code",
   "execution_count": 8,
   "metadata": {},
   "outputs": [
    {
     "output_type": "execute_result",
     "data": {
      "text/plain": [
       "          id  assignment_id  problem_id  user_id  is_final             status  \\\n",
       "13940  14008              0          81        1         1  Compilation Error   \n",
       "84860  84971              0         370        1         1              SCORE   \n",
       "0          4              0           3        4         1              SCORE   \n",
       "1          5              0           4        4         1              SCORE   \n",
       "2          6              0           5        4         0  Compilation Error   \n",
       "\n",
       "       pre_score coefficient      file_name  language_id           created_at  \\\n",
       "13940          0         100  solution-1791            2  2020-11-08 16:50:50   \n",
       "84860      10000         100  solution-2367            2  2020-12-01 01:59:52   \n",
       "0          10000         100     solution-0            2  2020-10-30 10:58:11   \n",
       "1          10000         100     solution-1            2  2020-10-30 11:07:09   \n",
       "2              0         100     solution-2            2  2020-10-30 11:08:01   \n",
       "\n",
       "                updated_at  \n",
       "13940  2020-11-08 16:50:50  \n",
       "84860  2020-12-01 02:00:05  \n",
       "0      2020-10-30 10:58:19  \n",
       "1      2020-10-30 11:07:17  \n",
       "2      2020-10-30 11:23:36  "
      ],
      "text/html": "<div>\n<style scoped>\n    .dataframe tbody tr th:only-of-type {\n        vertical-align: middle;\n    }\n\n    .dataframe tbody tr th {\n        vertical-align: top;\n    }\n\n    .dataframe thead th {\n        text-align: right;\n    }\n</style>\n<table border=\"1\" class=\"dataframe\">\n  <thead>\n    <tr style=\"text-align: right;\">\n      <th></th>\n      <th>id</th>\n      <th>assignment_id</th>\n      <th>problem_id</th>\n      <th>user_id</th>\n      <th>is_final</th>\n      <th>status</th>\n      <th>pre_score</th>\n      <th>coefficient</th>\n      <th>file_name</th>\n      <th>language_id</th>\n      <th>created_at</th>\n      <th>updated_at</th>\n    </tr>\n  </thead>\n  <tbody>\n    <tr>\n      <th>13940</th>\n      <td>14008</td>\n      <td>0</td>\n      <td>81</td>\n      <td>1</td>\n      <td>1</td>\n      <td>Compilation Error</td>\n      <td>0</td>\n      <td>100</td>\n      <td>solution-1791</td>\n      <td>2</td>\n      <td>2020-11-08 16:50:50</td>\n      <td>2020-11-08 16:50:50</td>\n    </tr>\n    <tr>\n      <th>84860</th>\n      <td>84971</td>\n      <td>0</td>\n      <td>370</td>\n      <td>1</td>\n      <td>1</td>\n      <td>SCORE</td>\n      <td>10000</td>\n      <td>100</td>\n      <td>solution-2367</td>\n      <td>2</td>\n      <td>2020-12-01 01:59:52</td>\n      <td>2020-12-01 02:00:05</td>\n    </tr>\n    <tr>\n      <th>0</th>\n      <td>4</td>\n      <td>0</td>\n      <td>3</td>\n      <td>4</td>\n      <td>1</td>\n      <td>SCORE</td>\n      <td>10000</td>\n      <td>100</td>\n      <td>solution-0</td>\n      <td>2</td>\n      <td>2020-10-30 10:58:11</td>\n      <td>2020-10-30 10:58:19</td>\n    </tr>\n    <tr>\n      <th>1</th>\n      <td>5</td>\n      <td>0</td>\n      <td>4</td>\n      <td>4</td>\n      <td>1</td>\n      <td>SCORE</td>\n      <td>10000</td>\n      <td>100</td>\n      <td>solution-1</td>\n      <td>2</td>\n      <td>2020-10-30 11:07:09</td>\n      <td>2020-10-30 11:07:17</td>\n    </tr>\n    <tr>\n      <th>2</th>\n      <td>6</td>\n      <td>0</td>\n      <td>5</td>\n      <td>4</td>\n      <td>0</td>\n      <td>Compilation Error</td>\n      <td>0</td>\n      <td>100</td>\n      <td>solution-2</td>\n      <td>2</td>\n      <td>2020-10-30 11:08:01</td>\n      <td>2020-10-30 11:23:36</td>\n    </tr>\n  </tbody>\n</table>\n</div>"
     },
     "metadata": {},
     "execution_count": 8
    }
   ],
   "source": [
    "sorted_info = info.sort_values(by=[\"user_id\",\"problem_id\"], ascending=True)\n",
    "sorted_info.head()"
   ]
  },
  {
   "cell_type": "code",
   "execution_count": 11,
   "metadata": {},
   "outputs": [
    {
     "output_type": "execute_result",
     "data": {
      "text/plain": [
       "                  count           mean           std  min       25%       50%  \\\n",
       "id             264606.0  132535.074908  76605.695631  4.0  66262.25  132413.5   \n",
       "assignment_id  264606.0     186.732429    109.768713  0.0     90.00     178.0   \n",
       "problem_id     264606.0     257.958074    158.359795  1.0    123.00     298.0   \n",
       "user_id        264606.0     935.002147    514.246324  1.0    497.00     925.0   \n",
       "is_final       264606.0       0.387349      0.487146  0.0      0.00       0.0   \n",
       "pre_score      264606.0    5596.454559   4393.183730  0.0      0.00    7000.0   \n",
       "language_id    264606.0       2.000317      0.025195  2.0      2.00       2.0   \n",
       "\n",
       "                     75%       max  \n",
       "id             198566.75  266671.0  \n",
       "assignment_id     286.00     384.0  \n",
       "problem_id        348.00     698.0  \n",
       "user_id          1393.00    1868.0  \n",
       "is_final            1.00       1.0  \n",
       "pre_score       10000.00   10000.0  \n",
       "language_id         2.00       4.0  "
      ],
      "text/html": "<div>\n<style scoped>\n    .dataframe tbody tr th:only-of-type {\n        vertical-align: middle;\n    }\n\n    .dataframe tbody tr th {\n        vertical-align: top;\n    }\n\n    .dataframe thead th {\n        text-align: right;\n    }\n</style>\n<table border=\"1\" class=\"dataframe\">\n  <thead>\n    <tr style=\"text-align: right;\">\n      <th></th>\n      <th>count</th>\n      <th>mean</th>\n      <th>std</th>\n      <th>min</th>\n      <th>25%</th>\n      <th>50%</th>\n      <th>75%</th>\n      <th>max</th>\n    </tr>\n  </thead>\n  <tbody>\n    <tr>\n      <th>id</th>\n      <td>264606.0</td>\n      <td>132535.074908</td>\n      <td>76605.695631</td>\n      <td>4.0</td>\n      <td>66262.25</td>\n      <td>132413.5</td>\n      <td>198566.75</td>\n      <td>266671.0</td>\n    </tr>\n    <tr>\n      <th>assignment_id</th>\n      <td>264606.0</td>\n      <td>186.732429</td>\n      <td>109.768713</td>\n      <td>0.0</td>\n      <td>90.00</td>\n      <td>178.0</td>\n      <td>286.00</td>\n      <td>384.0</td>\n    </tr>\n    <tr>\n      <th>problem_id</th>\n      <td>264606.0</td>\n      <td>257.958074</td>\n      <td>158.359795</td>\n      <td>1.0</td>\n      <td>123.00</td>\n      <td>298.0</td>\n      <td>348.00</td>\n      <td>698.0</td>\n    </tr>\n    <tr>\n      <th>user_id</th>\n      <td>264606.0</td>\n      <td>935.002147</td>\n      <td>514.246324</td>\n      <td>1.0</td>\n      <td>497.00</td>\n      <td>925.0</td>\n      <td>1393.00</td>\n      <td>1868.0</td>\n    </tr>\n    <tr>\n      <th>is_final</th>\n      <td>264606.0</td>\n      <td>0.387349</td>\n      <td>0.487146</td>\n      <td>0.0</td>\n      <td>0.00</td>\n      <td>0.0</td>\n      <td>1.00</td>\n      <td>1.0</td>\n    </tr>\n    <tr>\n      <th>pre_score</th>\n      <td>264606.0</td>\n      <td>5596.454559</td>\n      <td>4393.183730</td>\n      <td>0.0</td>\n      <td>0.00</td>\n      <td>7000.0</td>\n      <td>10000.00</td>\n      <td>10000.0</td>\n    </tr>\n    <tr>\n      <th>language_id</th>\n      <td>264606.0</td>\n      <td>2.000317</td>\n      <td>0.025195</td>\n      <td>2.0</td>\n      <td>2.00</td>\n      <td>2.0</td>\n      <td>2.00</td>\n      <td>4.0</td>\n    </tr>\n  </tbody>\n</table>\n</div>"
     },
     "metadata": {},
     "execution_count": 11
    }
   ],
   "source": [
    "info.describe().T"
   ]
  },
  {
   "cell_type": "code",
   "execution_count": 9,
   "metadata": {},
   "outputs": [
    {
     "output_type": "execute_result",
     "data": {
      "text/plain": [
       "            id  assignment_id  problem_id  user_id  is_final  \\\n",
       "0            4              0           3        4         1   \n",
       "1            5              0           4        4         1   \n",
       "2            6              0           5        4         0   \n",
       "3            7              0           5        4         0   \n",
       "4            8              0           5        4         0   \n",
       "...        ...            ...         ...      ...       ...   \n",
       "263904  265970            383           5     1452         1   \n",
       "263912  265978            383           7     1452         1   \n",
       "263915  265981            383           9     1452         0   \n",
       "263917  265983            383           8     1452         0   \n",
       "263920  265986            383           9     1452         1   \n",
       "\n",
       "                   status  pre_score coefficient      file_name  language_id  \\\n",
       "0                   SCORE      10000         100     solution-0            2   \n",
       "1                   SCORE      10000         100     solution-1            2   \n",
       "2       Compilation Error          0         100     solution-2            2   \n",
       "3       Compilation Error          0         100     solution-3            2   \n",
       "4       Compilation Error          0         100     solution-4            2   \n",
       "...                   ...        ...         ...            ...          ...   \n",
       "263904              SCORE      10000         100  solution-3198            2   \n",
       "263912              SCORE      10000         100  solution-3206            2   \n",
       "263915  Compilation Error          0         100  solution-3209            2   \n",
       "263917  Compilation Error          0         100  solution-3211            2   \n",
       "263920              SCORE      10000         100  solution-3214            2   \n",
       "\n",
       "                 created_at           updated_at  \n",
       "0       2020-10-30 10:58:11  2020-10-30 10:58:19  \n",
       "1       2020-10-30 11:07:09  2020-10-30 11:07:17  \n",
       "2       2020-10-30 11:08:01  2020-10-30 11:23:36  \n",
       "3       2020-10-30 11:11:41  2020-10-30 11:11:42  \n",
       "4       2020-10-30 11:15:06  2020-10-30 11:15:07  \n",
       "...                     ...                  ...  \n",
       "263904  2021-03-20 15:57:43  2021-03-20 15:57:51  \n",
       "263912  2021-03-20 16:01:15  2021-03-20 16:01:23  \n",
       "263915  2021-03-20 16:01:42  2021-03-20 16:03:24  \n",
       "263917  2021-03-20 16:02:22  2021-03-20 16:04:08  \n",
       "263920  2021-03-20 16:03:15  2021-03-20 16:03:24  \n",
       "\n",
       "[22689 rows x 12 columns]"
      ],
      "text/html": "<div>\n<style scoped>\n    .dataframe tbody tr th:only-of-type {\n        vertical-align: middle;\n    }\n\n    .dataframe tbody tr th {\n        vertical-align: top;\n    }\n\n    .dataframe thead th {\n        text-align: right;\n    }\n</style>\n<table border=\"1\" class=\"dataframe\">\n  <thead>\n    <tr style=\"text-align: right;\">\n      <th></th>\n      <th>id</th>\n      <th>assignment_id</th>\n      <th>problem_id</th>\n      <th>user_id</th>\n      <th>is_final</th>\n      <th>status</th>\n      <th>pre_score</th>\n      <th>coefficient</th>\n      <th>file_name</th>\n      <th>language_id</th>\n      <th>created_at</th>\n      <th>updated_at</th>\n    </tr>\n  </thead>\n  <tbody>\n    <tr>\n      <th>0</th>\n      <td>4</td>\n      <td>0</td>\n      <td>3</td>\n      <td>4</td>\n      <td>1</td>\n      <td>SCORE</td>\n      <td>10000</td>\n      <td>100</td>\n      <td>solution-0</td>\n      <td>2</td>\n      <td>2020-10-30 10:58:11</td>\n      <td>2020-10-30 10:58:19</td>\n    </tr>\n    <tr>\n      <th>1</th>\n      <td>5</td>\n      <td>0</td>\n      <td>4</td>\n      <td>4</td>\n      <td>1</td>\n      <td>SCORE</td>\n      <td>10000</td>\n      <td>100</td>\n      <td>solution-1</td>\n      <td>2</td>\n      <td>2020-10-30 11:07:09</td>\n      <td>2020-10-30 11:07:17</td>\n    </tr>\n    <tr>\n      <th>2</th>\n      <td>6</td>\n      <td>0</td>\n      <td>5</td>\n      <td>4</td>\n      <td>0</td>\n      <td>Compilation Error</td>\n      <td>0</td>\n      <td>100</td>\n      <td>solution-2</td>\n      <td>2</td>\n      <td>2020-10-30 11:08:01</td>\n      <td>2020-10-30 11:23:36</td>\n    </tr>\n    <tr>\n      <th>3</th>\n      <td>7</td>\n      <td>0</td>\n      <td>5</td>\n      <td>4</td>\n      <td>0</td>\n      <td>Compilation Error</td>\n      <td>0</td>\n      <td>100</td>\n      <td>solution-3</td>\n      <td>2</td>\n      <td>2020-10-30 11:11:41</td>\n      <td>2020-10-30 11:11:42</td>\n    </tr>\n    <tr>\n      <th>4</th>\n      <td>8</td>\n      <td>0</td>\n      <td>5</td>\n      <td>4</td>\n      <td>0</td>\n      <td>Compilation Error</td>\n      <td>0</td>\n      <td>100</td>\n      <td>solution-4</td>\n      <td>2</td>\n      <td>2020-10-30 11:15:06</td>\n      <td>2020-10-30 11:15:07</td>\n    </tr>\n    <tr>\n      <th>...</th>\n      <td>...</td>\n      <td>...</td>\n      <td>...</td>\n      <td>...</td>\n      <td>...</td>\n      <td>...</td>\n      <td>...</td>\n      <td>...</td>\n      <td>...</td>\n      <td>...</td>\n      <td>...</td>\n      <td>...</td>\n    </tr>\n    <tr>\n      <th>263904</th>\n      <td>265970</td>\n      <td>383</td>\n      <td>5</td>\n      <td>1452</td>\n      <td>1</td>\n      <td>SCORE</td>\n      <td>10000</td>\n      <td>100</td>\n      <td>solution-3198</td>\n      <td>2</td>\n      <td>2021-03-20 15:57:43</td>\n      <td>2021-03-20 15:57:51</td>\n    </tr>\n    <tr>\n      <th>263912</th>\n      <td>265978</td>\n      <td>383</td>\n      <td>7</td>\n      <td>1452</td>\n      <td>1</td>\n      <td>SCORE</td>\n      <td>10000</td>\n      <td>100</td>\n      <td>solution-3206</td>\n      <td>2</td>\n      <td>2021-03-20 16:01:15</td>\n      <td>2021-03-20 16:01:23</td>\n    </tr>\n    <tr>\n      <th>263915</th>\n      <td>265981</td>\n      <td>383</td>\n      <td>9</td>\n      <td>1452</td>\n      <td>0</td>\n      <td>Compilation Error</td>\n      <td>0</td>\n      <td>100</td>\n      <td>solution-3209</td>\n      <td>2</td>\n      <td>2021-03-20 16:01:42</td>\n      <td>2021-03-20 16:03:24</td>\n    </tr>\n    <tr>\n      <th>263917</th>\n      <td>265983</td>\n      <td>383</td>\n      <td>8</td>\n      <td>1452</td>\n      <td>0</td>\n      <td>Compilation Error</td>\n      <td>0</td>\n      <td>100</td>\n      <td>solution-3211</td>\n      <td>2</td>\n      <td>2021-03-20 16:02:22</td>\n      <td>2021-03-20 16:04:08</td>\n    </tr>\n    <tr>\n      <th>263920</th>\n      <td>265986</td>\n      <td>383</td>\n      <td>9</td>\n      <td>1452</td>\n      <td>1</td>\n      <td>SCORE</td>\n      <td>10000</td>\n      <td>100</td>\n      <td>solution-3214</td>\n      <td>2</td>\n      <td>2021-03-20 16:03:15</td>\n      <td>2021-03-20 16:03:24</td>\n    </tr>\n  </tbody>\n</table>\n<p>22689 rows × 12 columns</p>\n</div>"
     },
     "metadata": {},
     "execution_count": 9
    }
   ],
   "source": [
    "userSubmit = info.groupby(['user_id'])\n",
    "userSubmit.head(20)"
   ]
  }
 ]
}